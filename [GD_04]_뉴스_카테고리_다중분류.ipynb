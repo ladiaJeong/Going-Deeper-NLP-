{
  "cells": [
    {
      "cell_type": "markdown",
      "metadata": {
        "id": "view-in-github",
        "colab_type": "text"
      },
      "source": [
        "<a href=\"https://colab.research.google.com/github/ladiaJeong/Going-Deeper-NLP-/blob/master/%5BGD_04%5D_%EB%89%B4%EC%8A%A4_%EC%B9%B4%ED%85%8C%EA%B3%A0%EB%A6%AC_%EB%8B%A4%EC%A4%91%EB%B6%84%EB%A5%98.ipynb\" target=\"_parent\"><img src=\"https://colab.research.google.com/assets/colab-badge.svg\" alt=\"Open In Colab\"/></a>"
      ]
    },
    {
      "cell_type": "code",
      "source": [],
      "metadata": {
        "id": "KaFLV-fRDBrv"
      },
      "id": "KaFLV-fRDBrv",
      "execution_count": null,
      "outputs": []
    },
    {
      "cell_type": "markdown",
      "metadata": {
        "id": "91ebb2a5"
      },
      "source": [
        "### 데이터 확인하기 (로이터)"
      ],
      "id": "91ebb2a5"
    },
    {
      "cell_type": "code",
      "execution_count": null,
      "metadata": {
        "id": "ac6acda7",
        "outputId": "72272ec3-5cc6-4378-9b2c-12ba5a2b440d"
      },
      "outputs": [
        {
          "name": "stdout",
          "output_type": "stream",
          "text": [
            "2.6.0\n",
            "3.4.3\n",
            "0.11.2\n",
            "1.21.4\n",
            "1.3.3\n",
            "1.0\n",
            "=3\n"
          ]
        }
      ],
      "source": [
        "#데이터 확인하기 \n",
        "import tensorflow\n",
        "import matplotlib\n",
        "import seaborn \n",
        "import numpy \n",
        "import pandas\n",
        "import sklearn\n",
        "\n",
        "from tensorflow.keras.datasets import reuters\n",
        "import matplotlib.pyplot as plt\n",
        "import seaborn as sns\n",
        "import numpy as np\n",
        "import pandas as pd\n",
        "\n",
        "\n",
        "print(tensorflow.__version__)\n",
        "print(matplotlib.__version__)\n",
        "print(seaborn.__version__)\n",
        "print(numpy.__version__)\n",
        "print(pandas.__version__)\n",
        "print(sklearn.__version__)\n",
        "\n",
        "print('=3')"
      ],
      "id": "ac6acda7"
    },
    {
      "cell_type": "markdown",
      "metadata": {
        "id": "aae3f81e"
      },
      "source": [
        "### 프로젝트: Vocabulary Size를 변경해서 시도해보기- 전체 데이터"
      ],
      "id": "aae3f81e"
    },
    {
      "cell_type": "code",
      "execution_count": null,
      "metadata": {
        "id": "9062b4db",
        "outputId": "175d2160-bff9-4fdf-aeda-17940832f655"
      },
      "outputs": [
        {
          "data": {
            "text/plain": [
              "30980"
            ]
          },
          "execution_count": 156,
          "metadata": {},
          "output_type": "execute_result"
        }
      ],
      "source": [
        "#훈련데이터와 테스트 데이터 로드하기 \n",
        "(x_train, y_train), (x_test, y_test) = reuters.load_data(num_words=None, test_split=0.2)\n",
        "check_vocab_size(x_train, x_test)\n",
        "#num_words 단어들의 등장 빈도수가 높은 순서로 맵핑\n",
        "#test_split = 0.2는 전체 데이터 중에서 80%를 훈련 데이터, 20%를 테스트 데이터"
      ],
      "id": "9062b4db"
    },
    {
      "cell_type": "code",
      "execution_count": null,
      "metadata": {
        "id": "907166fc",
        "outputId": "f5f885ab-8564-4cb6-c7fa-1105315f86e0"
      },
      "outputs": [
        {
          "name": "stdout",
          "output_type": "stream",
          "text": [
            "훈련 샘플의 수: 8982\n",
            "테스트 샘플의 수: 2246\n"
          ]
        }
      ],
      "source": [
        "print('훈련 샘플의 수: {}'.format(len(x_train)))\n",
        "print('테스트 샘플의 수: {}'.format(len(x_test)))"
      ],
      "id": "907166fc"
    },
    {
      "cell_type": "code",
      "execution_count": null,
      "metadata": {
        "id": "01e84ca1",
        "outputId": "12703b8c-5a53-4ba7-c0c0-276f7ff019e0"
      },
      "outputs": [
        {
          "name": "stdout",
          "output_type": "stream",
          "text": [
            "[1, 27595, 28842, 8, 43, 10, 447, 5, 25, 207, 270, 5, 3095, 111, 16, 369, 186, 90, 67, 7, 89, 5, 19, 102, 6, 19, 124, 15, 90, 67, 84, 22, 482, 26, 7, 48, 4, 49, 8, 864, 39, 209, 154, 6, 151, 6, 83, 11, 15, 22, 155, 11, 15, 7, 48, 9, 4579, 1005, 504, 6, 258, 6, 272, 11, 15, 22, 134, 44, 11, 15, 16, 8, 197, 1245, 90, 67, 52, 29, 209, 30, 32, 132, 6, 109, 15, 17, 12]\n",
            "[1, 4, 1378, 2025, 9, 697, 4622, 111, 8, 25, 109, 29, 3650, 11, 150, 244, 364, 33, 30, 30, 1398, 333, 6, 18292, 159, 9, 1084, 363, 13, 19231, 71, 9, 16273, 71, 117, 4, 225, 78, 206, 10, 9, 1214, 8, 4, 270, 5, 16273, 7, 748, 48, 9, 19231, 7, 207, 1451, 966, 1864, 793, 97, 133, 336, 7, 4, 493, 98, 273, 104, 284, 25, 39, 338, 22, 905, 220, 3465, 644, 59, 20, 6, 119, 61, 11, 15, 58, 579, 26, 10, 67, 7, 4, 738, 98, 43, 88, 333, 722, 12, 20, 6, 19, 746, 35, 15, 10, 9, 1214, 855, 129, 783, 21, 4, 2280, 244, 364, 51, 16, 299, 452, 16, 515, 4, 99, 29, 5, 4, 364, 281, 48, 10, 9, 1214, 23, 644, 47, 20, 324, 27, 56, 23406, 28185, 5, 192, 510, 17, 12]\n"
          ]
        }
      ],
      "source": [
        "#데이터 출력\n",
        "print(x_train[0])\n",
        "print(x_test[0])"
      ],
      "id": "01e84ca1"
    },
    {
      "cell_type": "code",
      "execution_count": null,
      "metadata": {
        "id": "8436207f",
        "outputId": "e7c6e50a-51ed-4712-9d64-73bb15816f78"
      },
      "outputs": [
        {
          "name": "stdout",
          "output_type": "stream",
          "text": [
            "3\n",
            "3\n"
          ]
        }
      ],
      "source": [
        "#레이블 출력\n",
        "print(y_train[0])\n",
        "print(y_test[0])"
      ],
      "id": "8436207f"
    },
    {
      "cell_type": "code",
      "execution_count": null,
      "metadata": {
        "id": "a4ca86c7",
        "outputId": "49acfbac-55bb-4e6b-e53e-0669c3eafe01"
      },
      "outputs": [
        {
          "name": "stdout",
          "output_type": "stream",
          "text": [
            "클래스의 수 : 46\n"
          ]
        }
      ],
      "source": [
        "num_classes = max(y_train) + 1\n",
        "print('클래스의 수 : {}'.format(num_classes))"
      ],
      "id": "a4ca86c7"
    },
    {
      "cell_type": "code",
      "execution_count": null,
      "metadata": {
        "id": "39627918",
        "outputId": "ba89c445-c528-4d04-92a1-fc63b1e1dd06"
      },
      "outputs": [
        {
          "name": "stdout",
          "output_type": "stream",
          "text": [
            "훈련용 뉴스의 최대 길이 :2376\n",
            "훈련용 뉴스의 평균 길이 :145.5398574927633\n"
          ]
        },
        {
          "data": {
            "image/png": "[encoded data removed]",
            "text/plain": [
              "<Figure size 792x360 with 1 Axes>"
            ]
          },
          "metadata": {
            "needs_background": "light"
          },
          "output_type": "display_data"
        }
      ],
      "source": [
        "#뉴스 데이터의 길이 분포 \n",
        "print('훈련용 뉴스의 최대 길이 :{}'.format(max(len(l) for l in x_train)))\n",
        "print('훈련용 뉴스의 평균 길이 :{}'.format(sum(map(len, x_train))/len(x_train)))\n",
        "\n",
        "plt.hist([len(s) for s in x_train], bins=50)\n",
        "plt.xlabel('length of samples')\n",
        "plt.ylabel('number of samples')\n",
        "plt.show()"
      ],
      "id": "39627918"
    },
    {
      "cell_type": "code",
      "execution_count": null,
      "metadata": {
        "id": "eff66a8a",
        "outputId": "9d1b60b3-a1af-4dc7-870c-6763c964c121"
      },
      "outputs": [
        {
          "data": {
            "image/png": "[encoded data removed]",
            "text/plain": [
              "<Figure size 792x360 with 1 Axes>"
            ]
          },
          "metadata": {
            "needs_background": "light"
          },
          "output_type": "display_data"
        }
      ],
      "source": [
        "#클래스 분포\n",
        "fig, axe = plt.subplots(ncols=1)\n",
        "fig.set_size_inches(11,5)\n",
        "sns.countplot(x=y_train)\n",
        "plt.show()"
      ],
      "id": "eff66a8a"
    },
    {
      "cell_type": "code",
      "execution_count": null,
      "metadata": {
        "id": "9f62d949",
        "outputId": "5252b644-e090-4ef1-f08b-f319a40550de"
      },
      "outputs": [
        {
          "name": "stdout",
          "output_type": "stream",
          "text": [
            "각 클래스 빈도수:\n",
            "[[   0    1    2    3    4    5    6    7    8    9   10   11   12   13\n",
            "    14   15   16   17   18   19   20   21   22   23   24   25   26   27\n",
            "    28   29   30   31   32   33   34   35   36   37   38   39   40   41\n",
            "    42   43   44   45]\n",
            " [  55  432   74 3159 1949   17   48   16  139  101  124  390   49  172\n",
            "    26   20  444   39   66  549  269  100   15   41   62   92   24   15\n",
            "    48   19   45   39   32   11   50   10   49   19   19   24   36   30\n",
            "    13   21   12   18]]\n"
          ]
        }
      ],
      "source": [
        "#각 클래스의 빈도수 출력(수치표현)\n",
        "unique_elements, counts_elements = np.unique(y_train, return_counts=True)\n",
        "print(\"각 클래스 빈도수:\")\n",
        "print(np.asarray((unique_elements, counts_elements)))"
      ],
      "id": "9f62d949"
    },
    {
      "cell_type": "code",
      "execution_count": null,
      "metadata": {
        "id": "00b267a4",
        "outputId": "6049c8e1-1d5e-445c-c9cb-6fc577bacb26"
      },
      "outputs": [
        {
          "name": "stdout",
          "output_type": "stream",
          "text": [
            "=3\n"
          ]
        }
      ],
      "source": [
        "#원본 뉴스 데이터로 복원하기 \n",
        "#단어'를 key값, 고유한 '정수'를 value로 가지는 dictionary를 제공. 이를 word_index로 저장\n",
        "word_index = reuters.get_word_index(path=\"reuters_word_index.json\")\n",
        "print('=3')"
      ],
      "id": "00b267a4"
    },
    {
      "cell_type": "code",
      "execution_count": null,
      "metadata": {
        "id": "05c5818f",
        "outputId": "ba5bd58b-ffce-4fca-ce96-39f0f3d2b20d"
      },
      "outputs": [
        {
          "data": {
            "text/plain": [
              "7"
            ]
          },
          "execution_count": 165,
          "metadata": {},
          "output_type": "execute_result"
        }
      ],
      "source": [
        "word_index['a']"
      ],
      "id": "05c5818f"
    },
    {
      "cell_type": "code",
      "execution_count": null,
      "metadata": {
        "id": "55ad4ec6",
        "outputId": "24b5f0c3-36eb-45aa-f216-1ae1c3d92e72"
      },
      "outputs": [
        {
          "data": {
            "text/plain": [
              "13"
            ]
          },
          "execution_count": 166,
          "metadata": {},
          "output_type": "execute_result"
        }
      ],
      "source": [
        "word_index['it']"
      ],
      "id": "55ad4ec6"
    },
    {
      "cell_type": "code",
      "execution_count": null,
      "metadata": {
        "id": "ecdb76d1",
        "outputId": "c761f6f6-0606-4ce4-b53b-b1d9b2365037"
      },
      "outputs": [
        {
          "data": {
            "text/plain": [
              "166"
            ]
          },
          "execution_count": 167,
          "metadata": {},
          "output_type": "execute_result"
        }
      ],
      "source": [
        "word_index['world']"
      ],
      "id": "ecdb76d1"
    },
    {
      "cell_type": "code",
      "execution_count": null,
      "metadata": {
        "id": "58ddeeb4",
        "outputId": "8a0ffa6a-dd6e-4d8a-8938-a5db4aad0a6b"
      },
      "outputs": [
        {
          "data": {
            "text/plain": [
              "494"
            ]
          },
          "execution_count": 168,
          "metadata": {},
          "output_type": "execute_result"
        }
      ],
      "source": [
        "word_index['news']"
      ],
      "id": "58ddeeb4"
    },
    {
      "cell_type": "markdown",
      "metadata": {
        "id": "60240545"
      },
      "source": [
        "##### 'the'는 사실 1번이 아니라 4번 단어입니다. \n",
        "##### 단어 'it'은 사실 13번 단어가 아니라 16번 각각 pad, sos, unk라는 토큰을 나타냅니다."
      ],
      "id": "60240545"
    },
    {
      "cell_type": "code",
      "execution_count": null,
      "metadata": {
        "id": "9442a8f9",
        "outputId": "6dcc679a-556c-43d1-8655-6def640e7dc8"
      },
      "outputs": [
        {
          "name": "stdout",
          "output_type": "stream",
          "text": [
            "=3\n"
          ]
        }
      ],
      "source": [
        "#3개의 패딩으로 인해 인덱스 넘버에 3을 더해줌 \n",
        "index_to_word = { index+3 : word for word, index in word_index.items() }\n",
        "print('=3') "
      ],
      "id": "9442a8f9"
    },
    {
      "cell_type": "code",
      "execution_count": null,
      "metadata": {
        "id": "0effc976",
        "outputId": "e93e532a-4ba2-406a-926a-8228498f7ecc"
      },
      "outputs": [
        {
          "name": "stdout",
          "output_type": "stream",
          "text": [
            "the\n",
            "it\n"
          ]
        }
      ],
      "source": [
        "print(index_to_word[4])\n",
        "print(index_to_word[16])"
      ],
      "id": "0effc976"
    },
    {
      "cell_type": "code",
      "execution_count": null,
      "metadata": {
        "id": "25bc7071",
        "outputId": "06a2eeb7-288b-43b6-a2fb-90ad0b8d9398"
      },
      "outputs": [
        {
          "name": "stdout",
          "output_type": "stream",
          "text": [
            "=3\n"
          ]
        }
      ],
      "source": [
        "# index_to_word에 숫자 0은 <pad>, 숫자 1은 <sos>, 숫자 2는 <unk>를 넣어줍니다.\n",
        "for index, token in enumerate((\"<pad>\", \"<sos>\", \"<unk>\")):\n",
        "  index_to_word[index]=token\n",
        "print('=3')"
      ],
      "id": "25bc7071"
    },
    {
      "cell_type": "code",
      "execution_count": null,
      "metadata": {
        "id": "91cf552b",
        "outputId": "ea1fc7bd-dc4f-4d32-dffe-1a9a1a15c86f"
      },
      "outputs": [
        {
          "name": "stdout",
          "output_type": "stream",
          "text": [
            "<sos> mcgrath rentcorp said as a result of its december acquisition of space co it expects earnings per share in 1987 of 1 15 to 1 30 dlrs per share up from 70 cts in 1986 the company said pretax net should rise to nine to 10 mln dlrs from six mln dlrs in 1986 and rental operation revenues to 19 to 22 mln dlrs from 12 5 mln dlrs it said cash flow per share this year should be 2 50 to three dlrs reuter 3\n"
          ]
        }
      ],
      "source": [
        "print(' '.join([index_to_word[index] for index in x_train[0]]))"
      ],
      "id": "91cf552b"
    },
    {
      "cell_type": "code",
      "execution_count": null,
      "metadata": {
        "id": "3b31eefb",
        "outputId": "c90db3d7-045e-4cce-dbac-010a152f069d"
      },
      "outputs": [
        {
          "name": "stdout",
          "output_type": "stream",
          "text": [
            "8982\n"
          ]
        }
      ],
      "source": [
        "#텍스트 데이터로 변환 디코딩~ \n",
        "decoded = []\n",
        "for i in range(len(x_train)):\n",
        "    t = ' '.join([index_to_word[index] for index in x_train[i]])\n",
        "    decoded.append(t)\n",
        "\n",
        "x_train = decoded\n",
        "print(len(x_train))"
      ],
      "id": "3b31eefb"
    },
    {
      "cell_type": "code",
      "execution_count": null,
      "metadata": {
        "id": "ad1c163f",
        "outputId": "ad56c8dc-d59c-4af0-dfac-5e38d4963dc7"
      },
      "outputs": [
        {
          "name": "stdout",
          "output_type": "stream",
          "text": [
            "2246\n"
          ]
        }
      ],
      "source": [
        "decoded = []\n",
        "for i in range(len(x_test)):\n",
        "    t = ' '.join([index_to_word[index] for index in x_test[i]])\n",
        "    decoded.append(t)\n",
        "\n",
        "x_test = decoded\n",
        "print(len(x_test))"
      ],
      "id": "ad1c163f"
    },
    {
      "cell_type": "code",
      "execution_count": null,
      "metadata": {
        "id": "2cb0c267",
        "outputId": "7f001697-8a69-416b-c6b7-43dba9c622ce"
      },
      "outputs": [
        {
          "data": {
            "text/plain": [
              "['<sos> mcgrath rentcorp said as a result of its december acquisition of space co it expects earnings per share in 1987 of 1 15 to 1 30 dlrs per share up from 70 cts in 1986 the company said pretax net should rise to nine to 10 mln dlrs from six mln dlrs in 1986 and rental operation revenues to 19 to 22 mln dlrs from 12 5 mln dlrs it said cash flow per share this year should be 2 50 to three dlrs reuter 3',\n",
              " \"<sos> generale de banque sa lt genb br and lt heller overseas corp of chicago have each taken 50 pct stakes in factoring company sa belgo factors generale de banque said in a statement it gave no financial details of the transaction sa belgo factors' turnover in 1986 was 17 5 billion belgian francs reuter 3\",\n",
              " '<sos> shr 3 28 dlrs vs 22 cts shr diluted 2 99 dlrs vs 22 cts net 46 0 mln vs 3 328 000 avg shrs 14 0 mln vs 15 2 mln year shr 5 41 dlrs vs 1 56 dlrs shr diluted 4 94 dlrs vs 1 50 dlrs net 78 2 mln vs 25 9 mln avg shrs 14 5 mln vs 15 1 mln note earnings per share reflect the two for one split effective january 6 1987 per share amounts are calculated after preferred stock dividends loss continuing operations for the qtr 1986 includes gains of sale of investments in enron corp of 14 mln dlrs and associated companies of 4 189 000 less writedowns of investments in national intergroup inc of 11 8 mln and brae corp of 15 6 mln reuter 3',\n",
              " \"<sos> the farmers home administration the u s agriculture department's farm lending arm could lose about seven billion dlrs in outstanding principal on its severely delinquent borrowers or about one fourth of its farm loan portfolio the general accounting office gao said in remarks prepared for delivery to the senate agriculture committee brian crowley senior associate director of gao also said that a preliminary analysis of proposed changes in fmha's financial eligibility standards indicated as many as one half of fmha borrowers who received new loans from the agency in 1986 would be ineligible under the proposed system the agency has proposed evaluating applicants' credit using a variety of financial ratios instead of relying solely on cashflow ability senate agriculture committee chairman patrick leahy d vt slammed the proposed eligibility changes telling fmha administrator vance clark at a hearing that they would mark a dramatic shift in the agency's purpose away from being farmers' lender of last resort toward becoming a big city bank but clark defended the new regulations saying the agency had a responsibility to administer its 70 billion dlr loan portfolio in a compassionate yet judicious manner crowley of gao congress' investigative arm said the proposed credit scoring system attempted to ensure that fmha would make loans only to borrowers who had a reasonable change of repaying their debt reuter 3\",\n",
              " '<sos> seton co said its board has received a proposal from chairman and chief executive officer philip d kaltenbacher to acquire seton for 15 75 dlrs per share in cash seton said the acquisition bid is subject to kaltenbacher arranging the necessary financing it said he intends to ask other members of senior management to participate the company said kaltenbacher owns 30 pct of seton stock and other management members another 7 5 pct seton said it has formed an independent board committee to consider the offer and has deferred the annual meeting it had scheduled for march 31 reuter 3']"
            ]
          },
          "execution_count": 175,
          "metadata": {},
          "output_type": "execute_result"
        }
      ],
      "source": [
        "x_train[:5]"
      ],
      "id": "2cb0c267"
    },
    {
      "cell_type": "code",
      "execution_count": null,
      "metadata": {
        "id": "52918e02",
        "outputId": "0d267557-5e10-40af-bac1-a8de09ca0116"
      },
      "outputs": [
        {
          "data": {
            "text/plain": [
              "['<sos> the great atlantic and pacific tea co said its three year 345 mln dlr capital program will be be substantially increased to accommodate growth and expansion plans for waldbaum inc and shopwell inc over the next two years a and p said the acquisition of shopwell in august 1986 and waldbaum in december helped us achieve better than expected results in the fourth quarter ended february 28 its net income from continuing operations jumped 52 6 pct to 20 7 mln dlrs or 55 cts a share in the latest quarter as sales increased 48 3 pct to 1 58 billion dlrs a and p gave no details on the expanded capital program but it did say it completed the first year of the program during 1986 a and p is 52 4 pct owned by lt tengelmann warenhandelsgesellschaft of west germany reuter 3',\n",
              " \"<sos> philippine sugar production in the 1987 88 crop year ending august has been set at 1 6 mln tonnes up from a provisional 1 3 mln tonnes this year sugar regulatory administration sra chairman arsenio yulo said yulo told reuters a survey during the current milling season which ends next month showed the 1986 87 estimate would almost certainly be met he said at least 1 2 mln tonnes of the 1987 88 crop would be earmarked for domestic consumption yulo said about 130 000 tonnes would be set aside for the u s sugar quota 150 000 tonnes for strategic reserves and 50 000 tonnes would be sold on the world market he said if the government approved a long standing sra recommendation to manufacture ethanol the project would take up another 150 000 tonnes slightly raising the target the government for its own reasons has been delaying approval of the project but we expect it to come through by july yulo said ethanol could make up five pct of gasoline cutting the oil import bill by about 300 mln pesos yulo said three major philippine distilleries were ready to start manufacturing ethanol if the project was approved the ethanol project would result in employment for about 100 000 people sharply reducing those thrown out of work by depressed world sugar prices and a moribund domestic industry production quotas set for the first time in 1987 88 had been submitted to president corazon aquino i think the president would rather wait till the new congress convenes after the may elections he said but there is really no need for such quotas we are right now producing just slightly over our own consumption level the producers have never enjoyed such high prices yulo said adding sugar was currently selling locally for 320 pesos per picul up from 190 pesos last august yulo said prices were driven up because of speculation following the sra's bid to control production we are no longer concerned so much with the world market he said adding producers in the negros region had learned from their mistakes and diversified into corn and prawn farming and cloth production he said diversification into products other than ethanol was also possible within the sugar industry the brazilians long ago learnt their lessons yulo said they have 300 sugar mills compared with our 41 but they relocated many of them and diversified production we want to call this a 'sugarcane industry' instead of the sugar industry he said sugarcane could be fed to pigs and livestock used for thatching roofs or used in room panelling when you cut sugarcane you don't even have to produce sugar he said yulo said the philippines was lobbying for a renewal of the international sugar agreement which expired in 1984 as a major sugar producer we are urging them to write a new agreement which would revive world prices yulo said if there is no agreement world prices will always be depressed particularly because the european community is subsidising its producers and dumping sugar on the markets he said current world prices holding steady at about 7 60 cents per pound were uneconomical for the philippines where production costs ranged from 12 to 14 cents a pound if the price holds steady for a while at 7 60 cents i expect the level to rise to about 11 cents a pound by the end of this year he said yulo said economists forecast a bullish sugar market by 1990 with world consumption outstripping production he said sugar markets were holding up despite encroachments from artificial sweeteners and high fructose corn syrup but we are not happy with the reagan administration he said since 1935 we have been regular suppliers of sugar to the u s in 1982 when they restored the quota system they cut ours in half without any justification manila was keenly watching washington's moves to cut domestic support prices to 12 cents a pound from 18 cents the u s agriculture department last december slashed its 12 month 1987 sugar import quota from the philippines to 143 780 short tons from 231 660 short tons in 1986 yulo said despite next year's increased production target some philippine mills were expected to shut down at least four of the 41 mills were not working during the 1986 87 season he said we expect two or three more to follow suit during the next season reuter 3\",\n",
              " \"<sos> the agriculture department's widening of louisiana gulf differentials will affect county posted prices for number two yellow corn in ten states a usda official said all counties in iowa will be affected as will counties which use the gulf to price corn in illinois indiana tennessee kentucky missouri mississippi arkansas alabama and louisiana said ron burgess deputy director of commodity operations division for the usda usda last night notified the grain industry that effective immediately all gulf differentials used to price interior corn would be widened on a sliding scale basis of four to eight cts depending on what the differential is usda's action was taken to lower excessively high posted county prices for corn caused by high gulf prices we've been following this louisiana gulf situation for a month and we don't think it's going to get back in line in any nearby time burgess said burgess said usda will probably narrow back the gulf differentials when and if gulf prices recede if we're off the mark now because we're too high wouldn't we be as much off the mark if we're too low he said while forecasting more adjustments if gulf prices fall burgess said no other changes in usda's price system are being planned right now we don't tinker we don't make changes lightly and we don't make changes often he said reuter 3\",\n",
              " '<sos> graham mccormick oil and gas partnership said it completed the sale of interests in two major oil and gas fields to lt energy assets international corp for 21 mln dlrs the company said it sold about one half of its 50 pct interest in the oak hill and north rucias fields its two largest producing properties it said it used about 20 mln dlrs of the proceeds to prepay principal on its senior secured notes semi annual principal payments on the remaining 40 mln dlrs of notes have been satisfied until december 1988 as a result it said the company said the note agreements were amended to reflect an easing of some financial covenants and an increase of interest to 13 5 pct from 13 0 pct until december 1990 it said the noteholders exercise price for 1 125 000 warrants was also reduced to 50 cts from 1 50 dlrs the company said energy assets agreed to share the costs of increasing production at the oak hill field reuter 3',\n",
              " '<sos> strong south easterly winds were keeping many vessels trapped in the ice off the finnish and swedish coasts in one of the worst icy periods in the baltic for many years the finnish board of navigation said in finland and sweden up to 50 vessels were reported to be stuck in the ice and even the largest of the assisting icebreakers were having difficulties in breaking through to the stranded ships coastguard officials said however icy conditions in the southern baltic at the soviet oil ports of ventspils and klaipeda had eased they said weather officials in neighbouring sweden said the icy conditions in the baltic were the worst for 30 years with ships fighting a losing battle to keep moving in the coastal stretches of the gulf of bothnia which divides finland and sweden the ice is up to one metre thick with drifts and currents packing it into almost impenetrable walls three metres high swedish coastguard officials said weather forecasts say winds may ease during the weekend but a further drop in temperature could bring shipping to a standstill the officials said reuter 3']"
            ]
          },
          "execution_count": 176,
          "metadata": {},
          "output_type": "execute_result"
        }
      ],
      "source": [
        "x_test[:5]"
      ],
      "id": "52918e02"
    },
    {
      "cell_type": "code",
      "execution_count": null,
      "metadata": {
        "id": "11412dc5",
        "outputId": "2b9df59a-d23c-4c6a-fc60-e10662b2e433"
      },
      "outputs": [
        {
          "name": "stdout",
          "output_type": "stream",
          "text": [
            "=3\n"
          ]
        }
      ],
      "source": [
        "#벡터화하기 \n",
        "from sklearn.feature_extraction.text import CountVectorizer\n",
        "from sklearn.feature_extraction.text import TfidfTransformer\n",
        "print('=3')"
      ],
      "id": "11412dc5"
    },
    {
      "cell_type": "code",
      "execution_count": null,
      "metadata": {
        "id": "95809330",
        "outputId": "2defae72-c216-4601-a462-006e873fe7bd"
      },
      "outputs": [
        {
          "name": "stdout",
          "output_type": "stream",
          "text": [
            "(8982, 26506)\n"
          ]
        }
      ],
      "source": [
        "#dtm 생성 및 크기 확인 \n",
        "dtmvector = CountVectorizer()\n",
        "x_train_dtm = dtmvector.fit_transform(x_train)\n",
        "print(x_train_dtm.shape)"
      ],
      "id": "95809330"
    },
    {
      "cell_type": "code",
      "execution_count": null,
      "metadata": {
        "id": "5df01050",
        "outputId": "78082b8d-a76a-4f76-9ef3-d5cbb8e5132c"
      },
      "outputs": [
        {
          "name": "stdout",
          "output_type": "stream",
          "text": [
            "(8982, 26506)\n"
          ]
        }
      ],
      "source": [
        "#트랜스포머로 생성, 사이즈 디티엠과 동일\n",
        "tfidf_transformer = TfidfTransformer()\n",
        "tfidfv = tfidf_transformer.fit_transform(x_train_dtm)\n",
        "print(tfidfv.shape)"
      ],
      "id": "5df01050"
    },
    {
      "cell_type": "code",
      "execution_count": null,
      "metadata": {
        "id": "d36657c4",
        "outputId": "67dfe540-cdda-45d9-9fb0-5acc681b8abb"
      },
      "outputs": [
        {
          "name": "stdout",
          "output_type": "stream",
          "text": [
            "=3\n"
          ]
        }
      ],
      "source": [
        "#나이브 베이즈 분류기\n",
        "from sklearn.naive_bayes import MultinomialNB #다항분포 나이브 베이즈 모델\n",
        "from sklearn.linear_model import LogisticRegression, SGDClassifier\n",
        "from sklearn.naive_bayes import ComplementNB\n",
        "from sklearn.tree import DecisionTreeClassifier\n",
        "from sklearn.ensemble import RandomForestClassifier\n",
        "from sklearn.ensemble import GradientBoostingClassifier\n",
        "from sklearn.ensemble import VotingClassifier\n",
        "from sklearn.svm import LinearSVC\n",
        "from sklearn.metrics import accuracy_score #정확도 계산\n",
        "\n",
        "print('=3')"
      ],
      "id": "d36657c4"
    },
    {
      "cell_type": "code",
      "execution_count": null,
      "metadata": {
        "id": "fa1e065c",
        "outputId": "578239b3-caae-4d5e-9de3-a0f983e105d9"
      },
      "outputs": [
        {
          "data": {
            "text/plain": [
              "MultinomialNB()"
            ]
          },
          "execution_count": 181,
          "metadata": {},
          "output_type": "execute_result"
        }
      ],
      "source": [
        "#나이브베이즈 분류기, fit 함수로 학습\n",
        "model = MultinomialNB()\n",
        "model.fit(tfidfv, y_train)"
      ],
      "id": "fa1e065c"
    },
    {
      "cell_type": "code",
      "execution_count": null,
      "metadata": {
        "id": "9ad10f83",
        "outputId": "7407193e-3312-40e7-de04-36ce055c39e7"
      },
      "outputs": [
        {
          "name": "stdout",
          "output_type": "stream",
          "text": [
            "정확도: 0.5997328584149599\n"
          ]
        }
      ],
      "source": [
        "x_test_dtm = dtmvector.transform(x_test) #테스트 데이터를 DTM으로 변환\n",
        "tfidfv_test = tfidf_transformer.transform(x_test_dtm) #DTM을 TF-IDF 행렬로 변환\n",
        "\n",
        "predicted = model.predict(tfidfv_test) #테스트 데이터에 대한 예측\n",
        "print(\"정확도:\", accuracy_score(y_test, predicted)) #예측값과 실제값 비교"
      ],
      "id": "9ad10f83"
    },
    {
      "cell_type": "code",
      "execution_count": null,
      "metadata": {
        "id": "cfdfd04a",
        "outputId": "1e02c86a-085a-475d-9bd0-b5163ab68ea7"
      },
      "outputs": [
        {
          "data": {
            "text/plain": [
              "'<sos> graham mccormick oil and gas partnership said it completed the sale of interests in two major oil and gas fields to lt energy assets international corp for 21 mln dlrs the company said it sold about one half of its 50 pct interest in the oak hill and north rucias fields its two largest producing properties it said it used about 20 mln dlrs of the proceeds to prepay principal on its senior secured notes semi annual principal payments on the remaining 40 mln dlrs of notes have been satisfied until december 1988 as a result it said the company said the note agreements were amended to reflect an easing of some financial covenants and an increase of interest to 13 5 pct from 13 0 pct until december 1990 it said the noteholders exercise price for 1 125 000 warrants was also reduced to 50 cts from 1 50 dlrs the company said energy assets agreed to share the costs of increasing production at the oak hill field reuter 3'"
            ]
          },
          "execution_count": 183,
          "metadata": {},
          "output_type": "execute_result"
        }
      ],
      "source": [
        "x_test[3]"
      ],
      "id": "cfdfd04a"
    },
    {
      "cell_type": "code",
      "execution_count": null,
      "metadata": {
        "id": "7cd839cf",
        "outputId": "845f554d-9a4d-482b-e610-e729bd69f032"
      },
      "outputs": [
        {
          "data": {
            "text/plain": [
              "4"
            ]
          },
          "execution_count": 184,
          "metadata": {},
          "output_type": "execute_result"
        }
      ],
      "source": [
        "y_test[3]"
      ],
      "id": "7cd839cf"
    },
    {
      "cell_type": "code",
      "execution_count": null,
      "metadata": {
        "id": "caf808da",
        "outputId": "6eaa2949-fab4-4b57-ba99-357ae009f23d"
      },
      "outputs": [
        {
          "data": {
            "image/png": "[encoded data removed]",
            "text/plain": [
              "<Figure size 792x360 with 1 Axes>"
            ]
          },
          "metadata": {
            "needs_background": "light"
          },
          "output_type": "display_data"
        }
      ],
      "source": [
        "probability_3 = model.predict_proba(tfidfv_test[3])[0]\n",
        "\n",
        "plt.rcParams[\"figure.figsize\"] = (11,5)\n",
        "plt.bar(model.classes_, probability_3)\n",
        "plt.xlim(-1, 21)\n",
        "plt.xticks(model.classes_)\n",
        "plt.xlabel(\"Class\")\n",
        "plt.ylabel(\"Probability\")\n",
        "plt.show()"
      ],
      "id": "caf808da"
    },
    {
      "cell_type": "code",
      "execution_count": null,
      "metadata": {
        "id": "33836115",
        "outputId": "45c87fd6-490a-4b0f-93d1-5eae57e14b9d"
      },
      "outputs": [
        {
          "data": {
            "text/plain": [
              "array([4])"
            ]
          },
          "execution_count": 186,
          "metadata": {},
          "output_type": "execute_result"
        }
      ],
      "source": [
        "model.predict(tfidfv_test[3])"
      ],
      "id": "33836115"
    },
    {
      "cell_type": "code",
      "execution_count": null,
      "metadata": {
        "id": "a6cf2d36",
        "outputId": "fb317121-194b-4b08-f23e-6bfb888841b3"
      },
      "outputs": [
        {
          "name": "stdout",
          "output_type": "stream",
          "text": [
            "=3\n"
          ]
        }
      ],
      "source": [
        "#F1-Score, Confusion Matrix 모델 성능 평가 \n",
        "\n",
        "from sklearn.metrics import classification_report\n",
        "from sklearn.metrics import confusion_matrix\n",
        "\n",
        "print('=3')"
      ],
      "id": "a6cf2d36"
    },
    {
      "cell_type": "code",
      "execution_count": null,
      "metadata": {
        "id": "f0a014c5",
        "outputId": "16096da1-e5f6-49d9-f962-6d113817bf0b"
      },
      "outputs": [
        {
          "name": "stdout",
          "output_type": "stream",
          "text": [
            "              precision    recall  f1-score   support\n",
            "\n",
            "           0       0.00      0.00      0.00        12\n",
            "           1       0.79      0.21      0.33       105\n",
            "           2       0.00      0.00      0.00        20\n",
            "           3       0.72      0.92      0.81       813\n",
            "           4       0.45      0.96      0.61       474\n",
            "           5       0.00      0.00      0.00         5\n",
            "           6       0.00      0.00      0.00        14\n",
            "           7       0.00      0.00      0.00         3\n",
            "           8       0.00      0.00      0.00        38\n",
            "           9       0.00      0.00      0.00        25\n",
            "          10       0.00      0.00      0.00        30\n",
            "          11       0.80      0.29      0.42        83\n",
            "          12       0.00      0.00      0.00        13\n",
            "          13       0.00      0.00      0.00        37\n",
            "          14       0.00      0.00      0.00         2\n",
            "          15       0.00      0.00      0.00         9\n",
            "          16       0.75      0.18      0.29        99\n",
            "          17       0.00      0.00      0.00        12\n",
            "          18       0.00      0.00      0.00        20\n",
            "          19       0.73      0.58      0.64       133\n",
            "          20       0.00      0.00      0.00        70\n",
            "          21       0.00      0.00      0.00        27\n",
            "          22       0.00      0.00      0.00         7\n",
            "          23       0.00      0.00      0.00        12\n",
            "          24       0.00      0.00      0.00        19\n",
            "          25       0.00      0.00      0.00        31\n",
            "          26       0.00      0.00      0.00         8\n",
            "          27       0.00      0.00      0.00         4\n",
            "          28       0.00      0.00      0.00        10\n",
            "          29       0.00      0.00      0.00         4\n",
            "          30       0.00      0.00      0.00        12\n",
            "          31       0.00      0.00      0.00        13\n",
            "          32       0.00      0.00      0.00        10\n",
            "          33       0.00      0.00      0.00         5\n",
            "          34       0.00      0.00      0.00         7\n",
            "          35       0.00      0.00      0.00         6\n",
            "          36       0.00      0.00      0.00        11\n",
            "          37       0.00      0.00      0.00         2\n",
            "          38       0.00      0.00      0.00         3\n",
            "          39       0.00      0.00      0.00         5\n",
            "          40       0.00      0.00      0.00        10\n",
            "          41       0.00      0.00      0.00         8\n",
            "          42       0.00      0.00      0.00         3\n",
            "          43       0.00      0.00      0.00         6\n",
            "          44       0.00      0.00      0.00         5\n",
            "          45       0.00      0.00      0.00         1\n",
            "\n",
            "    accuracy                           0.60      2246\n",
            "   macro avg       0.09      0.07      0.07      2246\n",
            "weighted avg       0.50      0.60      0.50      2246\n",
            "\n"
          ]
        }
      ],
      "source": [
        "print(classification_report(y_test, model.predict(tfidfv_test), zero_division=0))"
      ],
      "id": "f0a014c5"
    },
    {
      "cell_type": "code",
      "execution_count": null,
      "metadata": {
        "id": "838d40db",
        "outputId": "065b3bec-0f40-4baf-9a52-1f38d1832021"
      },
      "outputs": [
        {
          "name": "stdout",
          "output_type": "stream",
          "text": [
            "=3\n"
          ]
        }
      ],
      "source": [
        "#혼돈행렬 시각화 \n",
        "def graph_confusion_matrix(model, x_test, y_test):#, classes_name):\n",
        "  df_cm = pd.DataFrame(confusion_matrix(y_test, model.predict(x_test)))#, index=classes_name, columns=classes_name)\n",
        "  fig = plt.figure(figsize=(12,12))\n",
        "  heatmap = sns.heatmap(df_cm, annot=True, fmt=\"d\")\n",
        "  heatmap.yaxis.set_ticklabels(heatmap.yaxis.get_ticklabels(), rotation=0, ha='right', fontsize=12)\n",
        "  heatmap.xaxis.set_ticklabels(heatmap.xaxis.get_ticklabels(), rotation=45, ha='right', fontsize=12)\n",
        "  plt.ylabel('label')\n",
        "  plt.xlabel('predicted value')\n",
        "\n",
        "print('=3')"
      ],
      "id": "838d40db"
    },
    {
      "cell_type": "code",
      "execution_count": null,
      "metadata": {
        "id": "486f3f93",
        "outputId": "b011e3c7-a486-497e-f318-0f7b71e0229c"
      },
      "outputs": [
        {
          "data": {
            "image/png": "[encoded data removed]",
            "text/plain": [
              "<Figure size 864x864 with 2 Axes>"
            ]
          },
          "metadata": {
            "needs_background": "light"
          },
          "output_type": "display_data"
        }
      ],
      "source": [
        "graph_confusion_matrix(model, tfidfv_test, y_test)"
      ],
      "id": "486f3f93"
    },
    {
      "cell_type": "markdown",
      "metadata": {
        "id": "f2006a81"
      },
      "source": [
        "### 다양한 머신러닝 모델 사용해보기 "
      ],
      "id": "f2006a81"
    },
    {
      "cell_type": "code",
      "execution_count": null,
      "metadata": {
        "id": "f271d0a0",
        "outputId": "1cc8c8f2-2013-47a0-e9ab-0505e9c73991"
      },
      "outputs": [
        {
          "data": {
            "text/plain": [
              "ComplementNB()"
            ]
          },
          "execution_count": 191,
          "metadata": {},
          "output_type": "execute_result"
        }
      ],
      "source": [
        "#데이터가 불균형, 컴플리먼트 나이브 베이즈 분류기\n",
        "cb = ComplementNB()\n",
        "cb.fit(tfidfv, y_train)"
      ],
      "id": "f271d0a0"
    },
    {
      "cell_type": "code",
      "execution_count": null,
      "metadata": {
        "id": "0207ecd5",
        "outputId": "2bd81e5b-201f-4300-f2a6-2b88dd9fe5d7"
      },
      "outputs": [
        {
          "name": "stdout",
          "output_type": "stream",
          "text": [
            "정확도: 0.7649154051647373\n"
          ]
        }
      ],
      "source": [
        "predicted = cb.predict(tfidfv_test) #테스트 데이터에 대한 예측\n",
        "print(\"정확도:\", accuracy_score(y_test, predicted)) #예측값과 실제값 비교"
      ],
      "id": "0207ecd5"
    },
    {
      "cell_type": "code",
      "execution_count": null,
      "metadata": {
        "id": "bf9d5da8",
        "outputId": "8701f5f1-65d5-459d-ad08-b6b9f50c4df5"
      },
      "outputs": [
        {
          "data": {
            "text/plain": [
              "LogisticRegression(C=10000, max_iter=3000)"
            ]
          },
          "execution_count": 193,
          "metadata": {},
          "output_type": "execute_result"
        }
      ],
      "source": [
        "#로지스틱 회귀(Logistic Regression)\n",
        "# 10분 정도 소요됩니다.\n",
        "lr = LogisticRegression(C=10000, penalty='l2', max_iter=3000)# 해를 찾아가는데 반복횟수 3000으로 제한, 제약조건을 12로 \n",
        "lr.fit(tfidfv, y_train)"
      ],
      "id": "bf9d5da8"
    },
    {
      "cell_type": "code",
      "execution_count": null,
      "metadata": {
        "id": "92eb5375",
        "outputId": "9e2ad28e-9ad5-45bf-fd16-abf419a47560"
      },
      "outputs": [
        {
          "name": "stdout",
          "output_type": "stream",
          "text": [
            "정확도: 0.8165627782724845\n"
          ]
        }
      ],
      "source": [
        "predicted = lr.predict(tfidfv_test) #테스트 데이터에 대한 예측\n",
        "print(\"정확도:\", accuracy_score(y_test, predicted)) #예측값과 실제값 비교"
      ],
      "id": "92eb5375"
    },
    {
      "cell_type": "code",
      "execution_count": null,
      "metadata": {
        "id": "7dacad20",
        "outputId": "4cbd9e17-ec82-44a9-fc97-1233db3d7a8a"
      },
      "outputs": [
        {
          "name": "stderr",
          "output_type": "stream",
          "text": [
            "/opt/conda/lib/python3.9/site-packages/sklearn/svm/_base.py:1199: ConvergenceWarning: Liblinear failed to converge, increase the number of iterations.\n",
            "  warnings.warn(\n"
          ]
        },
        {
          "data": {
            "text/plain": [
              "LinearSVC(C=1000, dual=False, max_iter=3000, penalty='l1')"
            ]
          },
          "execution_count": 195,
          "metadata": {},
          "output_type": "execute_result"
        }
      ],
      "source": [
        "#선형 서포트 벡터 머신 (svm)\n",
        "lsvc = LinearSVC(C=1000, penalty='l1', max_iter=3000, dual=False)\n",
        "lsvc.fit(tfidfv, y_train)"
      ],
      "id": "7dacad20"
    },
    {
      "cell_type": "code",
      "execution_count": null,
      "metadata": {
        "id": "1fa00364",
        "outputId": "824d77e5-f07c-4da9-f689-c28f5e76e4e1"
      },
      "outputs": [
        {
          "name": "stdout",
          "output_type": "stream",
          "text": [
            "정확도: 0.7876224398931434\n"
          ]
        }
      ],
      "source": [
        "predicted = lsvc.predict(tfidfv_test) #테스트 데이터에 대한 예측\n",
        "print(\"정확도:\", accuracy_score(y_test, predicted)) #예측값과 실제값 비교"
      ],
      "id": "1fa00364"
    },
    {
      "cell_type": "code",
      "execution_count": null,
      "metadata": {
        "id": "f97d78a5",
        "outputId": "b02b27bd-b295-400c-e6fb-eae0260674db"
      },
      "outputs": [
        {
          "data": {
            "text/plain": [
              "DecisionTreeClassifier(max_depth=10, random_state=0)"
            ]
          },
          "execution_count": 197,
          "metadata": {},
          "output_type": "execute_result"
        }
      ],
      "source": [
        "#dicision tree\n",
        "tree = DecisionTreeClassifier(max_depth=10, random_state=0) #깊이를 max_depth로 \n",
        "tree.fit(tfidfv, y_train)"
      ],
      "id": "f97d78a5"
    },
    {
      "cell_type": "code",
      "execution_count": null,
      "metadata": {
        "id": "bf75a1db",
        "outputId": "efed58ff-86de-42c5-92ca-f023919a1d4f"
      },
      "outputs": [
        {
          "name": "stdout",
          "output_type": "stream",
          "text": [
            "정확도: 0.6211041852181657\n"
          ]
        }
      ],
      "source": [
        "predicted = tree.predict(tfidfv_test) #테스트 데이터에 대한 예측\n",
        "print(\"정확도:\", accuracy_score(y_test, predicted)) #예측값과 실제값 비교"
      ],
      "id": "bf75a1db"
    },
    {
      "cell_type": "code",
      "execution_count": null,
      "metadata": {
        "id": "3d6b9c27",
        "outputId": "a9218f1d-d1d4-4213-a62c-63c3f5c1cefa"
      },
      "outputs": [
        {
          "data": {
            "text/plain": [
              "RandomForestClassifier(n_estimators=5, random_state=0)"
            ]
          },
          "execution_count": 199,
          "metadata": {},
          "output_type": "execute_result"
        }
      ],
      "source": [
        "#랜덤 포레스트(Random Forest)\n",
        "forest = RandomForestClassifier(n_estimators=5, random_state=0)\n",
        "forest.fit(tfidfv, y_train)"
      ],
      "id": "3d6b9c27"
    },
    {
      "cell_type": "code",
      "execution_count": null,
      "metadata": {
        "id": "8aa398fe",
        "outputId": "15d37f9f-3aa6-41d2-8e74-cf1e620a588c"
      },
      "outputs": [
        {
          "name": "stdout",
          "output_type": "stream",
          "text": [
            "정확도: 0.6544968833481746\n"
          ]
        }
      ],
      "source": [
        "predicted = forest.predict(tfidfv_test) #테스트 데이터에 대한 예측\n",
        "print(\"정확도:\", accuracy_score(y_test, predicted)) #예측값과 실제값 비교"
      ],
      "id": "8aa398fe"
    },
    {
      "cell_type": "code",
      "execution_count": null,
      "metadata": {
        "id": "0af58d3b",
        "outputId": "5a1c8d8a-c449-455b-d34c-0dfe746af985"
      },
      "outputs": [
        {
          "data": {
            "text/plain": [
              "GradientBoostingClassifier(random_state=0)"
            ]
          },
          "execution_count": 201,
          "metadata": {},
          "output_type": "execute_result"
        }
      ],
      "source": [
        "#그래디언트 부스팅 트리(GradientBoostingClassifier)\n",
        "# 15분 정도 소요될 수 있습니다.\n",
        "grbt = GradientBoostingClassifier(random_state=0) # verbose=3\n",
        "grbt.fit(tfidfv, y_train)"
      ],
      "id": "0af58d3b"
    },
    {
      "cell_type": "code",
      "execution_count": null,
      "metadata": {
        "id": "8f95dd38",
        "outputId": "9ccd9d3d-5c22-4367-fe5b-64b0263db04f"
      },
      "outputs": [
        {
          "name": "stdout",
          "output_type": "stream",
          "text": [
            "정확도: 0.7702582368655387\n"
          ]
        }
      ],
      "source": [
        "predicted = grbt.predict(tfidfv_test) #테스트 데이터에 대한 예측\n",
        "print(\"정확도:\", accuracy_score(y_test, predicted)) #예측값과 실제값 비교"
      ],
      "id": "8f95dd38"
    },
    {
      "cell_type": "code",
      "execution_count": null,
      "metadata": {
        "id": "e63dd026",
        "outputId": "eaef3b57-47a1-441e-c871-00a012bec4be"
      },
      "outputs": [
        {
          "data": {
            "text/plain": [
              "VotingClassifier(estimators=[('lr', LogisticRegression(C=10000, max_iter=3000)),\n",
              "                             ('cb', ComplementNB()),\n",
              "                             ('grbt',\n",
              "                              GradientBoostingClassifier(random_state=0))],\n",
              "                 voting='soft')"
            ]
          },
          "execution_count": 203,
          "metadata": {},
          "output_type": "execute_result"
        }
      ],
      "source": [
        "#보팅(Voting)\n",
        "# 20분 이상 소요될 수 있습니다.\n",
        "voting_classifier = VotingClassifier(estimators=[\n",
        "         ('lr', LogisticRegression(C=10000, max_iter=3000, penalty='l2')),\n",
        "        ('cb', ComplementNB()),\n",
        "        ('grbt', GradientBoostingClassifier(random_state=0))\n",
        "], voting='soft')\n",
        "voting_classifier.fit(tfidfv, y_train)"
      ],
      "id": "e63dd026"
    },
    {
      "cell_type": "code",
      "execution_count": null,
      "metadata": {
        "id": "91cc08fa",
        "outputId": "8a1d55ea-aaad-4fc0-988a-e6f6028d8ab7"
      },
      "outputs": [
        {
          "name": "stdout",
          "output_type": "stream",
          "text": [
            "정확도: 0.8156723063223509\n"
          ]
        }
      ],
      "source": [
        "predicted = voting_classifier.predict(tfidfv_test) #테스트 데이터에 대한 예측\n",
        "print(\"정확도:\", accuracy_score(y_test, predicted)) #예측값과 실제값 비교"
      ],
      "id": "91cc08fa"
    },
    {
      "cell_type": "code",
      "execution_count": null,
      "metadata": {
        "id": "bb62f58c"
      },
      "outputs": [],
      "source": [
        "\n",
        "#### 10000 vo size\n",
        "#### naive bayes classifier 정확도: 0.6567230632235085\n",
        "#### cnb                    정확도: 0.7707034728406055\n",
        "#### lr (소프트맥스 회귀)   정확도: 0.8107747105966162\n",
        "#### lsvc                   정확도: 0.7871772039180766\n",
        "#### dicision tree          정확도: 0.6202137132680321\n",
        "#### random forest          정확도: 0.674087266251113\n",
        "#### gradient boosting tree 정확도: 0.7662511130899377\n",
        "#### Voting                 정확도: 0.8165627782724845"
      ],
      "id": "bb62f58c"
    },
    {
      "cell_type": "markdown",
      "metadata": {
        "id": "e9401beb"
      },
      "source": [
        "### Vocabulary Size를 변경해서 시도해보기 -15000"
      ],
      "id": "e9401beb"
    },
    {
      "cell_type": "code",
      "execution_count": null,
      "metadata": {
        "id": "947af0f4",
        "outputId": "390a914c-9cff-4a85-8fe4-4b1ee20889d1"
      },
      "outputs": [
        {
          "data": {
            "text/plain": [
              "14998"
            ]
          },
          "execution_count": 208,
          "metadata": {},
          "output_type": "execute_result"
        }
      ],
      "source": [
        "# Vocabulary Size를 변경 :15000\n",
        "#훈련데이터와 테스트 데이터 로드하기 \n",
        "(x1_train, y1_train), (x1_test, y1_test) = reuters.load_data(num_words= 15000, test_split=0.2)\n",
        "check_vocab_size(x1_train, x1_test)\n",
        "#num_words 단어들의 등장 빈도수가 높은 순서로 맵핑\n",
        "#test_split = 0.2는 전체 데이터 중에서 80%를 훈련 데이터, 20%를 테스트 데이터"
      ],
      "id": "947af0f4"
    },
    {
      "cell_type": "code",
      "execution_count": null,
      "metadata": {
        "id": "2ca1f48e"
      },
      "outputs": [],
      "source": [
        "#print('훈련 샘플의 수: {}'.format(len(x1_train)))\n",
        "#print('테스트 샘플의 수: {}'.format(len(x1_test)))"
      ],
      "id": "2ca1f48e"
    },
    {
      "cell_type": "code",
      "execution_count": null,
      "metadata": {
        "id": "d555b799",
        "outputId": "cdba4991-5d9d-4add-89bf-aff5652ccf73"
      },
      "outputs": [
        {
          "name": "stdout",
          "output_type": "stream",
          "text": [
            "[1, 2, 2, 8, 43, 10, 447, 5, 25, 207, 270, 5, 3095, 111, 16, 369, 186, 90, 67, 7, 89, 5, 19, 102, 6, 19, 124, 15, 90, 67, 84, 22, 482, 26, 7, 48, 4, 49, 8, 864, 39, 209, 154, 6, 151, 6, 83, 11, 15, 22, 155, 11, 15, 7, 48, 9, 4579, 1005, 504, 6, 258, 6, 272, 11, 15, 22, 134, 44, 11, 15, 16, 8, 197, 1245, 90, 67, 52, 29, 209, 30, 32, 132, 6, 109, 15, 17, 12]\n",
            "[1, 4, 1378, 2025, 9, 697, 4622, 111, 8, 25, 109, 29, 3650, 11, 150, 244, 364, 33, 30, 30, 1398, 333, 6, 2, 159, 9, 1084, 363, 13, 2, 71, 9, 2, 71, 117, 4, 225, 78, 206, 10, 9, 1214, 8, 4, 270, 5, 2, 7, 748, 48, 9, 2, 7, 207, 1451, 966, 1864, 793, 97, 133, 336, 7, 4, 493, 98, 273, 104, 284, 25, 39, 338, 22, 905, 220, 3465, 644, 59, 20, 6, 119, 61, 11, 15, 58, 579, 26, 10, 67, 7, 4, 738, 98, 43, 88, 333, 722, 12, 20, 6, 19, 746, 35, 15, 10, 9, 1214, 855, 129, 783, 21, 4, 2280, 244, 364, 51, 16, 299, 452, 16, 515, 4, 99, 29, 5, 4, 364, 281, 48, 10, 9, 1214, 23, 644, 47, 20, 324, 27, 56, 2, 2, 5, 192, 510, 17, 12]\n"
          ]
        }
      ],
      "source": [
        "print(x1_train[0])\n",
        "print(x1_test[0])"
      ],
      "id": "d555b799"
    },
    {
      "cell_type": "code",
      "execution_count": null,
      "metadata": {
        "id": "e7e1ac48",
        "outputId": "5f14b514-396b-40a8-a5d1-07adb7725192"
      },
      "outputs": [
        {
          "name": "stdout",
          "output_type": "stream",
          "text": [
            "3\n",
            "3\n"
          ]
        }
      ],
      "source": [
        "print(y1_train[0])\n",
        "print(y1_test[0])"
      ],
      "id": "e7e1ac48"
    },
    {
      "cell_type": "code",
      "execution_count": null,
      "metadata": {
        "id": "5716fa1d",
        "outputId": "0b794e66-631c-4428-9af9-876438e774a5"
      },
      "outputs": [
        {
          "name": "stdout",
          "output_type": "stream",
          "text": [
            "클래스의 수 : 46\n"
          ]
        }
      ],
      "source": [
        "num_classes = max(y1_train) + 1\n",
        "print('클래스의 수 : {}'.format(num_classes))"
      ],
      "id": "5716fa1d"
    },
    {
      "cell_type": "code",
      "execution_count": null,
      "metadata": {
        "id": "9a587f3d",
        "outputId": "bf74a990-d381-45d9-8962-231b4f39c122"
      },
      "outputs": [
        {
          "name": "stdout",
          "output_type": "stream",
          "text": [
            "=3\n"
          ]
        }
      ],
      "source": [
        "word_index = reuters.get_word_index(path=\"reuters_word_index.json\")\n",
        "print('=3')"
      ],
      "id": "9a587f3d"
    },
    {
      "cell_type": "code",
      "execution_count": null,
      "metadata": {
        "id": "77c167e2",
        "outputId": "dd2ef5e2-7452-41f5-86b7-08799b6db961"
      },
      "outputs": [
        {
          "name": "stdout",
          "output_type": "stream",
          "text": [
            "=3\n"
          ]
        }
      ],
      "source": [
        "# index_to_word에 숫자 0은 <pad>, 숫자 1은 <sos>, 숫자 2는 <unk>를 넣어줍니다.\n",
        "for index, token in enumerate((\"<pad>\", \"<sos>\", \"<unk>\")):\n",
        "  index_to_word[index]=token\n",
        "print('=3')"
      ],
      "id": "77c167e2"
    },
    {
      "cell_type": "code",
      "execution_count": null,
      "metadata": {
        "id": "69598eb9",
        "outputId": "9848a69d-f6b3-46cf-ad0a-495ca30c45b4"
      },
      "outputs": [
        {
          "name": "stdout",
          "output_type": "stream",
          "text": [
            "<sos> <unk> <unk> said as a result of its december acquisition of space co it expects earnings per share in 1987 of 1 15 to 1 30 dlrs per share up from 70 cts in 1986 the company said pretax net should rise to nine to 10 mln dlrs from six mln dlrs in 1986 and rental operation revenues to 19 to 22 mln dlrs from 12 5 mln dlrs it said cash flow per share this year should be 2 50 to three dlrs reuter 3\n"
          ]
        }
      ],
      "source": [
        "print(' '.join([index_to_word[index] for index in x1_train[0]]))"
      ],
      "id": "69598eb9"
    },
    {
      "cell_type": "code",
      "execution_count": null,
      "metadata": {
        "id": "d98180b9",
        "outputId": "8ddb821c-ca3e-4e7b-f28e-4ff7e96b2426"
      },
      "outputs": [
        {
          "name": "stdout",
          "output_type": "stream",
          "text": [
            "8982\n"
          ]
        }
      ],
      "source": [
        "decoded = []\n",
        "for i in range(len(x1_train)):\n",
        "    t = ' '.join([index_to_word[index] for index in x1_train[i]])\n",
        "    decoded.append(t)\n",
        "\n",
        "x1_train = decoded\n",
        "print(len(x1_train))"
      ],
      "id": "d98180b9"
    },
    {
      "cell_type": "code",
      "execution_count": null,
      "metadata": {
        "id": "5ca894b8",
        "outputId": "8f81355b-fcd0-4351-ba69-bf401f917914"
      },
      "outputs": [
        {
          "name": "stdout",
          "output_type": "stream",
          "text": [
            "2246\n"
          ]
        }
      ],
      "source": [
        "decoded = []\n",
        "for i in range(len(x1_test)):\n",
        "    t = ' '.join([index_to_word[index] for index in x1_test[i]])\n",
        "    decoded.append(t)\n",
        "\n",
        "x1_test = decoded\n",
        "print(len(x1_test))"
      ],
      "id": "5ca894b8"
    },
    {
      "cell_type": "code",
      "execution_count": null,
      "metadata": {
        "id": "80ba3499",
        "outputId": "bd614a83-ce5c-4fd1-b5e6-9a3fb28e1f04"
      },
      "outputs": [
        {
          "name": "stdout",
          "output_type": "stream",
          "text": [
            "=3\n",
            "(8982, 26506)\n",
            "(8982, 26506)\n",
            "(8982, 26506)\n"
          ]
        }
      ],
      "source": [
        "#벡터화하기 \n",
        "from sklearn.feature_extraction.text import CountVectorizer\n",
        "from sklearn.feature_extraction.text import TfidfTransformer\n",
        "print('=3')\n",
        "\n",
        "#dtm 생성 및 크기 확인 \n",
        "#트랜스포머로 생성, 사이즈 디티엠과 동일\n",
        "dtmvector = CountVectorizer()\n",
        "x_train_dtm = dtmvector.fit_transform(x_train)\n",
        "print(x_train_dtm.shape)\n",
        "\n",
        "tfidf_transformer = TfidfTransformer()\n",
        "tfidfv = tfidf_transformer.fit_transform(x_train_dtm)\n",
        "print(tfidfv.shape)\n",
        "\n",
        "tfidf_transformer = TfidfTransformer()\n",
        "tfidfv = tfidf_transformer.fit_transform(x_train_dtm)\n",
        "print(tfidfv.shape)"
      ],
      "id": "80ba3499"
    },
    {
      "cell_type": "code",
      "execution_count": null,
      "metadata": {
        "id": "52d54a48",
        "outputId": "31fea108-a1c2-4156-ad5f-79e636463cdd"
      },
      "outputs": [
        {
          "name": "stdout",
          "output_type": "stream",
          "text": [
            "정확도: 0.5997328584149599\n"
          ]
        },
        {
          "data": {
            "image/png": "[encoded data removed]",
            "text/plain": [
              "<Figure size 792x360 with 1 Axes>"
            ]
          },
          "metadata": {
            "needs_background": "light"
          },
          "output_type": "display_data"
        },
        {
          "data": {
            "text/plain": [
              "array([4])"
            ]
          },
          "execution_count": 223,
          "metadata": {},
          "output_type": "execute_result"
        }
      ],
      "source": [
        "model = MultinomialNB()\n",
        "model.fit(tfidfv, y_train)\n",
        "\n",
        "x_test_dtm = dtmvector.transform(x_test) #테스트 데이터를 DTM으로 변환\n",
        "tfidfv_test = tfidf_transformer.transform(x_test_dtm) #DTM을 TF-IDF 행렬로 변환\n",
        "\n",
        "predicted = model.predict(tfidfv_test) #테스트 데이터에 대한 예측\n",
        "print(\"정확도:\", accuracy_score(y_test, predicted)) #예측값과 실제값 비교\n",
        "\n",
        "probability_3 = model.predict_proba(tfidfv_test[3])[0]\n",
        "\n",
        "plt.rcParams[\"figure.figsize\"] = (11,5)\n",
        "plt.bar(model.classes_, probability_3)\n",
        "plt.xlim(-1, 21)\n",
        "plt.xticks(model.classes_)\n",
        "plt.xlabel(\"Class\")\n",
        "plt.ylabel(\"Probability\")\n",
        "plt.show()\n",
        "\n",
        "model.predict(tfidfv_test[3])"
      ],
      "id": "52d54a48"
    },
    {
      "cell_type": "code",
      "execution_count": null,
      "metadata": {
        "id": "354835a1",
        "outputId": "e8cbfc28-e43e-437b-94b4-7f0528ba2aa4"
      },
      "outputs": [
        {
          "name": "stdout",
          "output_type": "stream",
          "text": [
            "              precision    recall  f1-score   support\n",
            "\n",
            "           0       0.00      0.00      0.00        12\n",
            "           1       0.79      0.21      0.33       105\n",
            "           2       0.00      0.00      0.00        20\n",
            "           3       0.72      0.92      0.81       813\n",
            "           4       0.45      0.96      0.61       474\n",
            "           5       0.00      0.00      0.00         5\n",
            "           6       0.00      0.00      0.00        14\n",
            "           7       0.00      0.00      0.00         3\n",
            "           8       0.00      0.00      0.00        38\n",
            "           9       0.00      0.00      0.00        25\n",
            "          10       0.00      0.00      0.00        30\n",
            "          11       0.80      0.29      0.42        83\n",
            "          12       0.00      0.00      0.00        13\n",
            "          13       0.00      0.00      0.00        37\n",
            "          14       0.00      0.00      0.00         2\n",
            "          15       0.00      0.00      0.00         9\n",
            "          16       0.75      0.18      0.29        99\n",
            "          17       0.00      0.00      0.00        12\n",
            "          18       0.00      0.00      0.00        20\n",
            "          19       0.73      0.58      0.64       133\n",
            "          20       0.00      0.00      0.00        70\n",
            "          21       0.00      0.00      0.00        27\n",
            "          22       0.00      0.00      0.00         7\n",
            "          23       0.00      0.00      0.00        12\n",
            "          24       0.00      0.00      0.00        19\n",
            "          25       0.00      0.00      0.00        31\n",
            "          26       0.00      0.00      0.00         8\n",
            "          27       0.00      0.00      0.00         4\n",
            "          28       0.00      0.00      0.00        10\n",
            "          29       0.00      0.00      0.00         4\n",
            "          30       0.00      0.00      0.00        12\n",
            "          31       0.00      0.00      0.00        13\n",
            "          32       0.00      0.00      0.00        10\n",
            "          33       0.00      0.00      0.00         5\n",
            "          34       0.00      0.00      0.00         7\n",
            "          35       0.00      0.00      0.00         6\n",
            "          36       0.00      0.00      0.00        11\n",
            "          37       0.00      0.00      0.00         2\n",
            "          38       0.00      0.00      0.00         3\n",
            "          39       0.00      0.00      0.00         5\n",
            "          40       0.00      0.00      0.00        10\n",
            "          41       0.00      0.00      0.00         8\n",
            "          42       0.00      0.00      0.00         3\n",
            "          43       0.00      0.00      0.00         6\n",
            "          44       0.00      0.00      0.00         5\n",
            "          45       0.00      0.00      0.00         1\n",
            "\n",
            "    accuracy                           0.60      2246\n",
            "   macro avg       0.09      0.07      0.07      2246\n",
            "weighted avg       0.50      0.60      0.50      2246\n",
            "\n",
            "=3\n"
          ]
        },
        {
          "data": {
            "image/png": "[encoded data removed]",
            "text/plain": [
              "<Figure size 864x864 with 2 Axes>"
            ]
          },
          "metadata": {
            "needs_background": "light"
          },
          "output_type": "display_data"
        }
      ],
      "source": [
        "print(classification_report(y_test, model.predict(tfidfv_test), zero_division=0))\n",
        "\n",
        "def graph_confusion_matrix(model, x_test, y_test):#, classes_name):\n",
        "  df_cm = pd.DataFrame(confusion_matrix(y_test, model.predict(x_test)))#, index=classes_name, columns=classes_name)\n",
        "  fig = plt.figure(figsize=(12,12))\n",
        "  heatmap = sns.heatmap(df_cm, annot=True, fmt=\"d\")\n",
        "  heatmap.yaxis.set_ticklabels(heatmap.yaxis.get_ticklabels(), rotation=0, ha='right', fontsize=12)\n",
        "  heatmap.xaxis.set_ticklabels(heatmap.xaxis.get_ticklabels(), rotation=45, ha='right', fontsize=12)\n",
        "  plt.ylabel('label')\n",
        "  plt.xlabel('predicted value')\n",
        "\n",
        "print('=3')\n",
        "\n",
        "graph_confusion_matrix(model, tfidfv_test, y_test)"
      ],
      "id": "354835a1"
    },
    {
      "cell_type": "code",
      "execution_count": null,
      "metadata": {
        "id": "4c5c6c3b",
        "outputId": "1141cfa8-d30d-48ba-e3bb-de5a54c88a33"
      },
      "outputs": [
        {
          "name": "stdout",
          "output_type": "stream",
          "text": [
            "정확도: 0.7649154051647373\n"
          ]
        }
      ],
      "source": [
        "cb = ComplementNB()\n",
        "cb.fit(tfidfv, y_train)\n",
        "\n",
        "predicted = cb.predict(tfidfv_test) #테스트 데이터에 대한 예측\n",
        "print(\"정확도:\", accuracy_score(y_test, predicted)) #예측값과 실제값 비교"
      ],
      "id": "4c5c6c3b"
    },
    {
      "cell_type": "code",
      "execution_count": null,
      "metadata": {
        "id": "81bcfb00",
        "outputId": "4adf59cc-80cf-4662-9a17-3e33aa4d8242"
      },
      "outputs": [
        {
          "name": "stdout",
          "output_type": "stream",
          "text": [
            "정확도: 0.8165627782724845\n"
          ]
        }
      ],
      "source": [
        "# 10분 정도 소요됩니다.\n",
        "lr = LogisticRegression(C=10000, penalty='l2', max_iter=3000)\n",
        "lr.fit(tfidfv, y_train)\n",
        "\n",
        "predicted = lr.predict(tfidfv_test) #테스트 데이터에 대한 예측\n",
        "print(\"정확도:\", accuracy_score(y_test, predicted)) #예측값과 실제값 비교"
      ],
      "id": "81bcfb00"
    },
    {
      "cell_type": "code",
      "execution_count": null,
      "metadata": {
        "id": "28b12ac8",
        "outputId": "c74df594-1209-47cc-ca53-ab096ff62cb4"
      },
      "outputs": [
        {
          "name": "stdout",
          "output_type": "stream",
          "text": [
            "정확도: 0.7951914514692787\n"
          ]
        },
        {
          "name": "stderr",
          "output_type": "stream",
          "text": [
            "/opt/conda/lib/python3.9/site-packages/sklearn/svm/_base.py:1199: ConvergenceWarning: Liblinear failed to converge, increase the number of iterations.\n",
            "  warnings.warn(\n"
          ]
        }
      ],
      "source": [
        "lsvc = LinearSVC(C=1000, penalty='l1', max_iter=3000, dual=False)\n",
        "lsvc.fit(tfidfv, y_train)\n",
        "\n",
        "predicted = lsvc.predict(tfidfv_test) #테스트 데이터에 대한 예측\n",
        "print(\"정확도:\", accuracy_score(y_test, predicted)) #예측값과 실제값 비교"
      ],
      "id": "28b12ac8"
    },
    {
      "cell_type": "code",
      "execution_count": null,
      "metadata": {
        "id": "66164bcc",
        "outputId": "6ea22b92-ea67-45cc-d77d-2af747868985"
      },
      "outputs": [
        {
          "name": "stdout",
          "output_type": "stream",
          "text": [
            "정확도: 0.6211041852181657\n"
          ]
        }
      ],
      "source": [
        "tree = DecisionTreeClassifier(max_depth=10, random_state=0)\n",
        "tree.fit(tfidfv, y_train)\n",
        "\n",
        "predicted = tree.predict(tfidfv_test) #테스트 데이터에 대한 예측\n",
        "print(\"정확도:\", accuracy_score(y_test, predicted)) #예측값과 실제값 비교"
      ],
      "id": "66164bcc"
    },
    {
      "cell_type": "code",
      "execution_count": null,
      "metadata": {
        "id": "aeb9eee3",
        "outputId": "d9a4262d-8d98-4f70-c4f4-bad3860979ee"
      },
      "outputs": [
        {
          "name": "stdout",
          "output_type": "stream",
          "text": [
            "정확도: 0.6544968833481746\n"
          ]
        }
      ],
      "source": [
        "forest = RandomForestClassifier(n_estimators=5, random_state=0)\n",
        "forest.fit(tfidfv, y_train)\n",
        "\n",
        "predicted = forest.predict(tfidfv_test) #테스트 데이터에 대한 예측\n",
        "print(\"정확도:\", accuracy_score(y_test, predicted)) #예측값과 실제값 비교"
      ],
      "id": "aeb9eee3"
    },
    {
      "cell_type": "code",
      "execution_count": null,
      "metadata": {
        "id": "c174bc90",
        "outputId": "5c14396a-ec75-4e8f-8890-713b60008686"
      },
      "outputs": [
        {
          "name": "stdout",
          "output_type": "stream",
          "text": [
            "정확도: 0.7702582368655387\n"
          ]
        }
      ],
      "source": [
        "# 15분 정도 소요될 수 있습니다.\n",
        "grbt = GradientBoostingClassifier(random_state=0) # verbose=3\n",
        "grbt.fit(tfidfv, y_train)\n",
        "\n",
        "predicted = grbt.predict(tfidfv_test) #테스트 데이터에 대한 예측\n",
        "print(\"정확도:\", accuracy_score(y_test, predicted)) #예측값과 실제값 비교"
      ],
      "id": "c174bc90"
    },
    {
      "cell_type": "code",
      "execution_count": null,
      "metadata": {
        "id": "fce8f9e8",
        "outputId": "c0173bdc-9e44-467a-d881-9c68d7856fbc"
      },
      "outputs": [
        {
          "name": "stdout",
          "output_type": "stream",
          "text": [
            "정확도: 0.8156723063223509\n"
          ]
        }
      ],
      "source": [
        "# 20분 이상 소요될 수 있습니다.\n",
        "voting_classifier = VotingClassifier(estimators=[\n",
        "         ('lr', LogisticRegression(C=10000, max_iter=3000, penalty='l2')),\n",
        "        ('cb', ComplementNB()),\n",
        "        ('grbt', GradientBoostingClassifier(random_state=0))\n",
        "], voting='soft')\n",
        "voting_classifier.fit(tfidfv, y_train)\n",
        "\n",
        "predicted = voting_classifier.predict(tfidfv_test) #테스트 데이터에 대한 예측\n",
        "print(\"정확도:\", accuracy_score(y_test, predicted)) #예측값과 실제값 비교"
      ],
      "id": "fce8f9e8"
    },
    {
      "cell_type": "markdown",
      "metadata": {
        "id": "9902430a"
      },
      "source": [
        "### Vocabulary Size를 변경해서 시도해보기 -5000"
      ],
      "id": "9902430a"
    },
    {
      "cell_type": "code",
      "execution_count": null,
      "metadata": {
        "id": "19a61e67",
        "outputId": "03bfdc90-e021-47b8-fe27-bca725a41a21"
      },
      "outputs": [
        {
          "data": {
            "text/plain": [
              "4998"
            ]
          },
          "execution_count": 236,
          "metadata": {},
          "output_type": "execute_result"
        }
      ],
      "source": [
        "(x2_train, y2_train), (x2_test, y2_test) = reuters.load_data(num_words= 5000, test_split=0.2)\n",
        "check_vocab_size(x2_train, x2_test)"
      ],
      "id": "19a61e67"
    },
    {
      "cell_type": "code",
      "execution_count": null,
      "metadata": {
        "id": "91fe8bdb",
        "outputId": "a05a3fee-368b-4f8d-c9f4-e875ed7fca35"
      },
      "outputs": [
        {
          "name": "stdout",
          "output_type": "stream",
          "text": [
            "클래스의 수 : 46\n",
            "=3\n",
            "=3\n",
            "<sos> <unk> <unk> said as a result of its december acquisition of space co it expects earnings per share in 1987 of 1 15 to 1 30 dlrs per share up from 70 cts in 1986 the company said pretax net should rise to nine to 10 mln dlrs from six mln dlrs in 1986 and rental operation revenues to 19 to 22 mln dlrs from 12 5 mln dlrs it said cash flow per share this year should be 2 50 to three dlrs reuter 3\n",
            "8982\n",
            "2246\n"
          ]
        }
      ],
      "source": [
        "num_classes = max(y2_train) + 1\n",
        "print('클래스의 수 : {}'.format(num_classes))\n",
        "\n",
        "word_index = reuters.get_word_index(path=\"reuters_word_index.json\")\n",
        "print('=3')\n",
        "\n",
        "# index_to_word에 숫자 0은 <pad>, 숫자 1은 <sos>, 숫자 2는 <unk>를 넣어줍니다.\n",
        "for index, token in enumerate((\"<pad>\", \"<sos>\", \"<unk>\")):\n",
        "  index_to_word[index]=token\n",
        "print('=3')\n",
        "\n",
        "print(' '.join([index_to_word[index] for index in x2_train[0]]))\n",
        "\n",
        "decoded = []\n",
        "for i in range(len(x1_train)):\n",
        "    t = ' '.join([index_to_word[index] for index in x2_train[i]])\n",
        "    decoded.append(t)\n",
        "\n",
        "x2_train = decoded\n",
        "print(len(x2_train))\n",
        "\n",
        "decoded = []\n",
        "for i in range(len(x2_test)):\n",
        "    t = ' '.join([index_to_word[index] for index in x2_test[i]])\n",
        "    decoded.append(t)\n",
        "\n",
        "x2_test = decoded\n",
        "print(len(x2_test))"
      ],
      "id": "91fe8bdb"
    },
    {
      "cell_type": "code",
      "execution_count": null,
      "metadata": {
        "id": "1f5a8ac9",
        "outputId": "7e0bbf22-8832-4cdf-eadf-bce6a86939f4"
      },
      "outputs": [
        {
          "name": "stdout",
          "output_type": "stream",
          "text": [
            "=3\n",
            "(8982, 26506)\n",
            "(8982, 26506)\n",
            "(8982, 26506)\n"
          ]
        }
      ],
      "source": [
        "#벡터화하기 \n",
        "from sklearn.feature_extraction.text import CountVectorizer\n",
        "from sklearn.feature_extraction.text import TfidfTransformer\n",
        "print('=3')\n",
        "\n",
        "#dtm 생성 및 크기 확인 \n",
        "#트랜스포머로 생성, 사이즈 디티엠과 동일\n",
        "dtmvector = CountVectorizer()\n",
        "x_train_dtm = dtmvector.fit_transform(x_train)\n",
        "print(x_train_dtm.shape)\n",
        "\n",
        "tfidf_transformer = TfidfTransformer()\n",
        "tfidfv = tfidf_transformer.fit_transform(x_train_dtm)\n",
        "print(tfidfv.shape)\n",
        "\n",
        "tfidf_transformer = TfidfTransformer()\n",
        "tfidfv = tfidf_transformer.fit_transform(x_train_dtm)\n",
        "print(tfidfv.shape)"
      ],
      "id": "1f5a8ac9"
    },
    {
      "cell_type": "code",
      "execution_count": null,
      "metadata": {
        "id": "bdc543b5",
        "outputId": "cc584508-330a-4e19-fb7b-07e6b68d917d"
      },
      "outputs": [
        {
          "name": "stdout",
          "output_type": "stream",
          "text": [
            "정확도: 0.5997328584149599\n"
          ]
        },
        {
          "data": {
            "image/png": "[encoded data removed]",
            "text/plain": [
              "<Figure size 792x360 with 1 Axes>"
            ]
          },
          "metadata": {
            "needs_background": "light"
          },
          "output_type": "display_data"
        },
        {
          "data": {
            "text/plain": [
              "array([4])"
            ]
          },
          "execution_count": 239,
          "metadata": {},
          "output_type": "execute_result"
        }
      ],
      "source": [
        "model = MultinomialNB()\n",
        "model.fit(tfidfv, y_train)\n",
        "\n",
        "x_test_dtm = dtmvector.transform(x_test) #테스트 데이터를 DTM으로 변환\n",
        "tfidfv_test = tfidf_transformer.transform(x_test_dtm) #DTM을 TF-IDF 행렬로 변환\n",
        "\n",
        "predicted = model.predict(tfidfv_test) #테스트 데이터에 대한 예측\n",
        "print(\"정확도:\", accuracy_score(y_test, predicted)) #예측값과 실제값 비교\n",
        "\n",
        "probability_3 = model.predict_proba(tfidfv_test[3])[0]\n",
        "\n",
        "plt.rcParams[\"figure.figsize\"] = (11,5)\n",
        "plt.bar(model.classes_, probability_3)\n",
        "plt.xlim(-1, 21)\n",
        "plt.xticks(model.classes_)\n",
        "plt.xlabel(\"Class\")\n",
        "plt.ylabel(\"Probability\")\n",
        "plt.show()\n",
        "\n",
        "model.predict(tfidfv_test[3])"
      ],
      "id": "bdc543b5"
    },
    {
      "cell_type": "code",
      "execution_count": null,
      "metadata": {
        "id": "b2826752",
        "outputId": "6ae071c0-8e0f-4303-b0a8-8be5d8b86cbe"
      },
      "outputs": [
        {
          "name": "stdout",
          "output_type": "stream",
          "text": [
            "정확도: 0.7649154051647373\n"
          ]
        }
      ],
      "source": [
        "cb = ComplementNB()\n",
        "cb.fit(tfidfv, y_train)\n",
        "\n",
        "predicted = cb.predict(tfidfv_test) #테스트 데이터에 대한 예측\n",
        "print(\"정확도:\", accuracy_score(y_test, predicted)) #예측값과 실제값 비교"
      ],
      "id": "b2826752"
    },
    {
      "cell_type": "code",
      "execution_count": null,
      "metadata": {
        "id": "7f3ffe68",
        "outputId": "461d3051-234b-4449-ace9-f541c6c82ed4"
      },
      "outputs": [
        {
          "name": "stdout",
          "output_type": "stream",
          "text": [
            "정확도: 0.8165627782724845\n"
          ]
        }
      ],
      "source": [
        "# 10분 정도 소요됩니다.\n",
        "lr = LogisticRegression(C=10000, penalty='l2', max_iter=3000)\n",
        "lr.fit(tfidfv, y_train)\n",
        "\n",
        "predicted = lr.predict(tfidfv_test) #테스트 데이터에 대한 예측\n",
        "print(\"정확도:\", accuracy_score(y_test, predicted)) #예측값과 실제값 비교"
      ],
      "id": "7f3ffe68"
    },
    {
      "cell_type": "code",
      "execution_count": null,
      "metadata": {
        "id": "fb048f36",
        "outputId": "338dbf7e-abf6-4c1a-b9a9-162a58022911"
      },
      "outputs": [
        {
          "name": "stdout",
          "output_type": "stream",
          "text": [
            "정확도: 0.7920747996438112\n"
          ]
        },
        {
          "name": "stderr",
          "output_type": "stream",
          "text": [
            "/opt/conda/lib/python3.9/site-packages/sklearn/svm/_base.py:1199: ConvergenceWarning: Liblinear failed to converge, increase the number of iterations.\n",
            "  warnings.warn(\n"
          ]
        }
      ],
      "source": [
        "lsvc = LinearSVC(C=1000, penalty='l1', max_iter=3000, dual=False)\n",
        "lsvc.fit(tfidfv, y_train)\n",
        "\n",
        "predicted = lsvc.predict(tfidfv_test) #테스트 데이터에 대한 예측\n",
        "print(\"정확도:\", accuracy_score(y_test, predicted)) #예측값과 실제값 비교"
      ],
      "id": "fb048f36"
    },
    {
      "cell_type": "code",
      "execution_count": null,
      "metadata": {
        "id": "b3f29008",
        "outputId": "78db6d06-bdff-48f4-f4c8-43c660192d78"
      },
      "outputs": [
        {
          "name": "stdout",
          "output_type": "stream",
          "text": [
            "정확도: 0.6211041852181657\n"
          ]
        }
      ],
      "source": [
        "tree = DecisionTreeClassifier(max_depth=10, random_state=0)\n",
        "tree.fit(tfidfv, y_train)\n",
        "\n",
        "predicted = tree.predict(tfidfv_test) #테스트 데이터에 대한 예측\n",
        "print(\"정확도:\", accuracy_score(y_test, predicted)) #예측값과 실제값 비교"
      ],
      "id": "b3f29008"
    },
    {
      "cell_type": "code",
      "execution_count": null,
      "metadata": {
        "id": "4693adf6",
        "outputId": "fbf31114-2b50-43e5-9c29-f19c50bced84"
      },
      "outputs": [
        {
          "name": "stdout",
          "output_type": "stream",
          "text": [
            "정확도: 0.6544968833481746\n"
          ]
        }
      ],
      "source": [
        "forest = RandomForestClassifier(n_estimators=5, random_state=0)\n",
        "forest.fit(tfidfv, y_train)\n",
        "\n",
        "predicted = forest.predict(tfidfv_test) #테스트 데이터에 대한 예측\n",
        "print(\"정확도:\", accuracy_score(y_test, predicted)) #예측값과 실제값 비교"
      ],
      "id": "4693adf6"
    },
    {
      "cell_type": "code",
      "execution_count": null,
      "metadata": {
        "id": "3cb5b403",
        "outputId": "be15708e-7953-4c8f-e835-1e756e9686f1"
      },
      "outputs": [
        {
          "name": "stdout",
          "output_type": "stream",
          "text": [
            "정확도: 0.7702582368655387\n"
          ]
        }
      ],
      "source": [
        "# 15분 정도 소요될 수 있습니다.\n",
        "grbt = GradientBoostingClassifier(random_state=0) # verbose=3\n",
        "grbt.fit(tfidfv, y_train)\n",
        "\n",
        "predicted = grbt.predict(tfidfv_test) #테스트 데이터에 대한 예측\n",
        "print(\"정확도:\", accuracy_score(y_test, predicted)) #예측값과 실제값 비교"
      ],
      "id": "3cb5b403"
    },
    {
      "cell_type": "code",
      "execution_count": null,
      "metadata": {
        "id": "323fd555"
      },
      "outputs": [],
      "source": [
        "# 20분 이상 소요될 수 있습니다.\n",
        "voting_classifier = VotingClassifier(estimators=[\n",
        "         ('lr', LogisticRegression(C=10000, max_iter=3000, penalty='l2')),\n",
        "        ('cb', ComplementNB()),\n",
        "        ('grbt', GradientBoostingClassifier(random_state=0))\n",
        "], voting='soft')\n",
        "voting_classifier.fit(tfidfv, y_train)\n",
        "\n",
        "predicted = voting_classifier.predict(tfidfv_test) #테스트 데이터에 대한 예측\n",
        "print(\"정확도:\", accuracy_score(y_test, predicted)) #예측값과 실제값 비교"
      ],
      "id": "323fd555"
    },
    {
      "cell_type": "markdown",
      "metadata": {
        "id": "a7d86467"
      },
      "source": [
        "|------------|5000|10000|15000|all|\n",
        "|------------|----|-----|-----|---|\n",
        "|naive_bayes|  0.599|0.656|0.599|0.599|\n",
        "|cnb| 0.764 |0.770|0.764|0.765|\n",
        "|LogisticRegression|0.816|0.810|0.816|0.816|\n",
        "|lsvc|0.792|0.787|0.795|0.787|\n",
        "|dicision tree|0.621|0.620|0.621|0.699|\n",
        "|random forest|  0.654  |0.674|0.654|0.621|\n",
        "|gradient boosting tree|    |0.766|0.770|0.770|\n",
        "| Voting|       |0.816|0.815|0.815|\n",
        "\n",
        "\n",
        "\n"
      ],
      "id": "a7d86467"
    },
    {
      "cell_type": "markdown",
      "metadata": {
        "id": "b91ce7d8"
      },
      "source": [
        "#### 대부분의 스코어가 10000 일때 우수했다. 모델의 우수함은 로지스틱 회귀가 단연 뛰어났고, 나이브 베이즈의 기계 학습 성과는 다른 것에 비해 많이 낮았다. \n",
        "#### 디시젼 트리 모델 종류는 디시전 트리->랜덤 포레스트-> 그래디언트 부스팅 트리-> 보팅 순서로 성능이 점점 나아졌다. \n",
        "\n",
        "#### 딥러닝 스터디는 아래와 같이 만들어 보려고 했느나 시간이 부족해서... 다음으로... "
      ],
      "id": "b91ce7d8"
    },
    {
      "cell_type": "code",
      "execution_count": null,
      "metadata": {
        "id": "78e3efb0",
        "outputId": "ac63c008-829f-4cc1-e957-f8eb92df2edf"
      },
      "outputs": [
        {
          "ename": "TypeError",
          "evalue": "'<=' not supported between instances of 'list' and 'int'",
          "output_type": "error",
          "traceback": [
            "\u001b[0;31m---------------------------------------------------------------------------\u001b[0m",
            "\u001b[0;31mTypeError\u001b[0m                                 Traceback (most recent call last)",
            "\u001b[0;32m/tmp/ipykernel_106/3534054896.py\u001b[0m in \u001b[0;36m<module>\u001b[0;34m\u001b[0m\n\u001b[1;32m      5\u001b[0m \u001b[0;34m\u001b[0m\u001b[0m\n\u001b[1;32m      6\u001b[0m models = tf.keras.Sequential([\n\u001b[0;32m----> 7\u001b[0;31m     \u001b[0mtf\u001b[0m\u001b[0;34m.\u001b[0m\u001b[0mkeras\u001b[0m\u001b[0;34m.\u001b[0m\u001b[0mlayers\u001b[0m\u001b[0;34m.\u001b[0m\u001b[0mEmbedding\u001b[0m\u001b[0;34m(\u001b[0m\u001b[0mvocab_size\u001b[0m\u001b[0;34m,\u001b[0m \u001b[0mword_vector_dim\u001b[0m\u001b[0;34m,\u001b[0m \u001b[0minput_shape\u001b[0m\u001b[0;34m=\u001b[0m\u001b[0;34m(\u001b[0m\u001b[0;32mNone\u001b[0m\u001b[0;34m,\u001b[0m\u001b[0;34m)\u001b[0m\u001b[0;34m)\u001b[0m\u001b[0;34m,\u001b[0m\u001b[0;34m\u001b[0m\u001b[0;34m\u001b[0m\u001b[0m\n\u001b[0m\u001b[1;32m      8\u001b[0m     \u001b[0mtf\u001b[0m\u001b[0;34m.\u001b[0m\u001b[0mkeras\u001b[0m\u001b[0;34m.\u001b[0m\u001b[0mlayers\u001b[0m\u001b[0;34m.\u001b[0m\u001b[0mLSTM\u001b[0m\u001b[0;34m(\u001b[0m\u001b[0;36m8\u001b[0m\u001b[0;34m)\u001b[0m\u001b[0;34m,\u001b[0m\u001b[0;34m\u001b[0m\u001b[0;34m\u001b[0m\u001b[0m\n\u001b[1;32m      9\u001b[0m     \u001b[0mtf\u001b[0m\u001b[0;34m.\u001b[0m\u001b[0mkeras\u001b[0m\u001b[0;34m.\u001b[0m\u001b[0mlayers\u001b[0m\u001b[0;34m.\u001b[0m\u001b[0mDense\u001b[0m\u001b[0;34m(\u001b[0m\u001b[0;36m16\u001b[0m\u001b[0;34m,\u001b[0m \u001b[0mactivation\u001b[0m\u001b[0;34m=\u001b[0m\u001b[0;34m'relu'\u001b[0m\u001b[0;34m)\u001b[0m\u001b[0;34m,\u001b[0m\u001b[0;34m\u001b[0m\u001b[0;34m\u001b[0m\u001b[0m\n",
            "\u001b[0;32m/opt/conda/lib/python3.9/site-packages/keras/layers/embeddings.py\u001b[0m in \u001b[0;36m__init__\u001b[0;34m(self, input_dim, output_dim, embeddings_initializer, embeddings_regularizer, activity_regularizer, embeddings_constraint, mask_zero, input_length, **kwargs)\u001b[0m\n\u001b[1;32m    119\u001b[0m       \u001b[0;32melse\u001b[0m\u001b[0;34m:\u001b[0m\u001b[0;34m\u001b[0m\u001b[0;34m\u001b[0m\u001b[0m\n\u001b[1;32m    120\u001b[0m         \u001b[0mkwargs\u001b[0m\u001b[0;34m[\u001b[0m\u001b[0;34m'input_shape'\u001b[0m\u001b[0;34m]\u001b[0m \u001b[0;34m=\u001b[0m \u001b[0;34m(\u001b[0m\u001b[0;32mNone\u001b[0m\u001b[0;34m,\u001b[0m\u001b[0;34m)\u001b[0m\u001b[0;34m\u001b[0m\u001b[0;34m\u001b[0m\u001b[0m\n\u001b[0;32m--> 121\u001b[0;31m     \u001b[0;32mif\u001b[0m \u001b[0minput_dim\u001b[0m \u001b[0;34m<=\u001b[0m \u001b[0;36m0\u001b[0m \u001b[0;32mor\u001b[0m \u001b[0moutput_dim\u001b[0m \u001b[0;34m<=\u001b[0m \u001b[0;36m0\u001b[0m\u001b[0;34m:\u001b[0m\u001b[0;34m\u001b[0m\u001b[0;34m\u001b[0m\u001b[0m\n\u001b[0m\u001b[1;32m    122\u001b[0m       raise ValueError('Both `input_dim` and `output_dim` should be positive, '\n\u001b[1;32m    123\u001b[0m                        'found input_dim {} and output_dim {}'.format(\n",
            "\u001b[0;31mTypeError\u001b[0m: '<=' not supported between instances of 'list' and 'int'"
          ]
        }
      ],
      "source": [
        "# Neural Network\n",
        "import tensorflow as tf\n",
        "word_vector_dim = 16\n",
        "vocab_size = x_train\n",
        "\n",
        "models = tf.keras.Sequential([\n",
        "    tf.keras.layers.Embedding(vocab_size, word_vector_dim, input_shape=(None,)),\n",
        "    tf.keras.layers.LSTM(8),  \n",
        "    tf.keras.layers.Dense(16, activation='relu'),\n",
        "    tf.keras.layers.Dense(32, activation='relu'),\n",
        "    tf.keras.layers.Dense(46, activation='softmax'), \n",
        "])\n",
        "\n",
        "models.summary()"
      ],
      "id": "78e3efb0"
    },
    {
      "cell_type": "code",
      "execution_count": null,
      "metadata": {
        "id": "f61856c4"
      },
      "outputs": [],
      "source": [],
      "id": "f61856c4"
    }
  ],
  "metadata": {
    "kernelspec": {
      "display_name": "Python 3 (ipykernel)",
      "language": "python",
      "name": "python3"
    },
    "language_info": {
      "codemirror_mode": {
        "name": "ipython",
        "version": 3
      },
      "file_extension": ".py",
      "mimetype": "text/x-python",
      "name": "python",
      "nbconvert_exporter": "python",
      "pygments_lexer": "ipython3",
      "version": "3.9.7"
    },
    "colab": {
      "provenance": [],
      "include_colab_link": true
    }
  },
  "nbformat": 4,
  "nbformat_minor": 5
}