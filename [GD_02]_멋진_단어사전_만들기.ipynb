{
  "cells": [
    {
      "cell_type": "markdown",
      "metadata": {
        "id": "view-in-github",
        "colab_type": "text"
      },
      "source": [
        "<a href=\"https://colab.research.google.com/github/ladiaJeong/Going-Deeper-NLP-/blob/master/%5BGD_02%5D_%EB%A9%8B%EC%A7%84_%EB%8B%A8%EC%96%B4%EC%82%AC%EC%A0%84_%EB%A7%8C%EB%93%A4%EA%B8%B0.ipynb\" target=\"_parent\"><img src=\"https://colab.research.google.com/assets/colab-badge.svg\" alt=\"Open In Colab\"/></a>"
      ]
    },
    {
      "cell_type": "code",
      "execution_count": null,
      "id": "6e1fecc9",
      "metadata": {
        "id": "6e1fecc9",
        "outputId": "09792530-426d-414e-a446-38cc0402c43d"
      },
      "outputs": [
        {
          "name": "stdout",
          "output_type": "stream",
          "text": [
            "['코딩', '언어', '가', '더욱', '익숙', '해', '지', '고', '해석', '이', '가능', '한', '날', '이', '오', '겠죠']\n"
          ]
        }
      ],
      "source": [
        "# KoNLPy, 그중에서도 가장 성능이 준수한 MeCab클래스를 활용\n",
        "\n",
        "from konlpy.tag import Mecab\n",
        "\n",
        "mecab = Mecab()\n",
        "print(mecab.morphs('코딩언어가더욱익숙해지고해석이가능한날이오겠죠'))"
      ]
    },
    {
      "cell_type": "markdown",
      "id": "3f7f7c58",
      "metadata": {
        "id": "3f7f7c58"
      },
      "source": [
        "## 데이터 다운로드 및 분석 "
      ]
    },
    {
      "cell_type": "code",
      "execution_count": null,
      "id": "412f1ac1",
      "metadata": {
        "id": "412f1ac1"
      },
      "outputs": [],
      "source": [
        "# 데이터 다운로드 및 분석 \n",
        "\n",
        "import os\n",
        "\n",
        "import matplotlib.pyplot as plt\n",
        "import tensorflow as tf\n",
        "import numpy as np\n",
        "\n",
        "%matplotlib inline"
      ]
    },
    {
      "cell_type": "code",
      "execution_count": null,
      "id": "6704df85",
      "metadata": {
        "id": "6704df85",
        "outputId": "3c05faac-1e66-4a9e-8989-c42fdbada9b3"
      },
      "outputs": [
        {
          "name": "stdout",
          "output_type": "stream",
          "text": [
            "Data Size: 94123\n",
            "Example:\n",
            ">> 개인용 컴퓨터 사용의 상당 부분은 \"이것보다 뛰어날 수 있느냐?\"\n",
            ">> 북한의 핵무기 계획을 포기하도록 하려는 압력이 거세지고 있는 가운데, 일본과 북한의 외교관들이 외교 관계를 정상화하려는 회담을 재개했다.\n",
            ">> \"경호 로보트가 침입자나 화재를 탐지하기 위해서 개인적으로, 그리고 전문적으로 사용되고 있습니다.\"\n",
            ">> 수자원부 당국은 논란이 되고 있고, 막대한 비용이 드는 이 사업에 대해 내년에 건설을 시작할 계획이다.\n",
            ">> 또한 근력 운동은 활발하게 걷는 것이나 최소한 20분 동안 뛰는 것과 같은 유산소 활동에서 얻는 운동 효과를 심장과 폐에 주지 않기 때문에, 연구학자들은 근력 운동이 심장에 큰 영향을 미치는지 여부에 대해 논쟁을 해왔다.\n"
          ]
        }
      ],
      "source": [
        "import os \n",
        "path_to_file = os.getenv('HOME')+'/aiffel/sp_tokenizer/data/korean-english-park.train.ko'\n",
        "\n",
        "with open(path_to_file,\"r\") as f:\n",
        "    raw = f.read().splitlines() #raw에 데이터가 있음^^ \n",
        "    \n",
        "print(\"Data Size:\", len(raw))\n",
        "\n",
        "print(\"Example:\")\n",
        "for sen in raw[0:100][::20]:print(\">>\", sen)"
      ]
    },
    {
      "cell_type": "code",
      "execution_count": null,
      "id": "b3f93b29",
      "metadata": {
        "id": "b3f93b29",
        "outputId": "6fdae5b1-e82a-4bbf-a039-894b531597eb"
      },
      "outputs": [
        {
          "name": "stdout",
          "output_type": "stream",
          "text": [
            "문장의 최단 길이: 1\n",
            "문장의 최장 길이: 377\n",
            "문장의 평균 길이: 60\n"
          ]
        },
        {
          "data": {
            "image/png": "[encoded data removed]",
            "text/plain": [
              "<Figure size 432x288 with 1 Axes>"
            ]
          },
          "metadata": {
            "needs_background": "light"
          },
          "output_type": "display_data"
        }
      ],
      "source": [
        "min_len = 999\n",
        "max_len = 0 \n",
        "sum_len = 0 #초기설정 \n",
        "\n",
        "for sen in raw:\n",
        "    length = len(sen)\n",
        "    if min_len > length: min_len = length # length가 최소값의 길이보다 작으면 최소값은 length\n",
        "    if max_len < length: max_len = length\n",
        "    sum_len += length # 하나씩 증가된 데이터를 더함\n",
        "    \n",
        "print(\"문장의 최단 길이:\", min_len)\n",
        "print(\"문장의 최장 길이:\", max_len)\n",
        "print(\"문장의 평균 길이:\", sum_len // len(raw))\n",
        "\n",
        "sentence_length = np.zeros((max_len), dtype=int) #np.zeros 0으로 초기화 된 배열 반환\n",
        "\n",
        "for sen in raw:\n",
        "    sentence_length[len(sen)-1] +=1\n",
        "    \n",
        "plt.bar(range(max_len), sentence_length, width=1.0)\n",
        "plt.title(\"Sentence Length Distribution\")\n",
        "plt.show()\n",
        "\n",
        "\n",
        "    "
      ]
    },
    {
      "cell_type": "code",
      "execution_count": null,
      "id": "b88e9a9a",
      "metadata": {
        "id": "b88e9a9a",
        "outputId": "0cef4c26-30c3-47fc-91ca-309e1cb628f3"
      },
      "outputs": [
        {
          "name": "stdout",
          "output_type": "stream",
          "text": [
            "’\n"
          ]
        }
      ],
      "source": [
        "def check_sentence_with_length(raw,length):\n",
        "    count = 0\n",
        "    \n",
        "    for sen in raw:\n",
        "        if len(sen) == length:\n",
        "            print(sen)\n",
        "            count +=1\n",
        "            if count > 100: return\n",
        "            \n",
        "check_sentence_with_length(raw, 1)\n"
      ]
    },
    {
      "cell_type": "code",
      "execution_count": null,
      "id": "10babbe4",
      "metadata": {
        "id": "10babbe4",
        "outputId": "731faf9a-92d2-4241-f1fb-06269c918a51"
      },
      "outputs": [
        {
          "name": "stdout",
          "output_type": "stream",
          "text": [
            "throwaway 사용 후 버리는  / cell phone 이동 전화, 휴대폰  / be set to do 할 준비가 되어있다  / make one's debut 처음 소개되다  / convenience store 편의점   / shelve 선반, (상품) 진열대  / aisle 길다란 통로  / down the aisle from  이 있는 통로 아랫쪽에  / razor 면도기  / beef jerky 말린 쇠고기  / disposable camera 일회용 카메라  / seek 하려고 애쓰다  / emulate 에 지지 않으려고 애쓰다, 겨루다  / spur-of-the-moment 충동적인  / consumer 소비자  / purchase 구매, 구매품 번역 :\n"
          ]
        }
      ],
      "source": [
        "check_sentence_with_length(raw, 377)"
      ]
    },
    {
      "cell_type": "code",
      "execution_count": null,
      "id": "a1ffb13f",
      "metadata": {
        "id": "a1ffb13f",
        "outputId": "b79863b7-205f-42a3-f4e4-503e51a3afc9"
      },
      "outputs": [
        {
          "name": "stdout",
          "output_type": "stream",
          "text": [
            "양측은 한 가지 즉, 한국인들은 오래 일하긴 하지만 반드시 효율적으로 일하는 것은 아니라는 데에는 동의한다.\n",
            "류마티스성 관절염은 뼈가 연결되는 부위인 관절을 둘러싸고 있는 조직을 신체의 면역 체계가 공격하는 질병이다.\n",
            "그리고 부시는 왜 이미 두 곳에서 대규모의 세계적 대치 상황에 몰두해 있는 때에 그 문제를 압박해들어갔는가?\n",
            "save의 주체는 a Japanese business이고, 목적어 it는 Locky Company를 받는다.\n",
            "\"이렇게 서양 의약에 대해 강하게 망설이는 이유 중 하나는 부작용에 대한 우려입니다.\" 라고 그녀가 말했다.\n",
            "많은 경우에 있어서, 흑인들은 그들이 현재 살고 있는 도시 빈곤지역으로 한 30년 전 쯤에 이주해 왔습니다.\n",
            "\"어떤 사람들은 자정에 근무를 마치고 오고, 어떤 이들은 사무실에 나가기 전에 몇개 홀을 돌고 싶어합니다.\"\n",
            "\"모든 사람들이 당신을 이상하게 바라본다면, 당신은 마치 질병을 갖고 있는 것 같은 기분을 느끼게 되겠죠.\"\n",
            "기업, 대학, 정부 기관들은 대개 자신들의 컴퓨터와 외부세계 사이를 연결시켜주는 개별적인 통로를 갖고 있다.\n",
            "환경 관련 상품과 서비스의 국제시장에서 아시아 지역만의 수요가 600억 달러를 초과할 것으로 예상되고 있다.\n",
            "미세입자와 화학 물질에 의한 대기 오염과 고체 폐기물의 처리로 생긴 문제들도 또한 성장의 환경적 결과들이다.\n",
            "미국에서의 음식 스타일에 많은 변화가 일어나고 있다. its는 the United States'를 대신한다.\n",
            "인도네시아는 성공적인 5개년 개발계획에서의 급속한 경제성장으로 환경에 부담이 더해지고 있다는 것을 인정했다.\n",
            "환경부의 공해통제국은 유해 폐기물을 통제하고, 그러한 통제는 새로운 공장의 설립 계획 단계에서부터 시작된다.\n",
            "정부가 비밀을 유지할 수 있는 완벽한 장소, 그리고 전해진 바에 의하면, 범죄를 저지르기에 완벽한 장소이다.\n",
            "look much more like  rather than ... ... 보다는 오히려 에 훨씬 더 흡사하다\n",
            "그것은 바로 우리에게 저장된 지방을 일정한 수준으로 끊임없이 유지하게끔 하는 음험한 내부 조절장치인 것이다.\n",
            "나는 그것이 하나의 조건이었다고 생각하지만, 미국의 지도자들은 그것을 주요한 문제로 보지 않았다고 생각한다.\n",
            "이때는 지금 회사로서는 지역사회와의 관계보다 더 중요한 것이 없다고 그의 직속상사를 설득하는 것이 요령이다.\n",
            "그렇다 하더라도 리더쉽을 가르치는 대부분의 과정은 리더쉽 대신 추종과 적응 및 합의경영에 중점을 두고 있다.\n",
            "유니버샬 스튜디오 헐리우드는 영화 Waterworld의 개봉일에 맞추어 생생한 해전(海戰) 쇼를 보여주었다.\n",
            "하지만, 북한은 남한이 남북한 관계를 개선하려는 노력을 꾸준히 저지하고 방해해왔다는 예전의 비난을 재개했다.\n",
            "몇 년 전에 그녀는 크라이슬러 경영진들로 하여금 자동차의 옵션을 줄여 비용을 절감하게 하려고 애쓰고 있었다.\n",
            "사태가 그럴지라도 많은 회사들이 고통스러운 한 해를 보냈으며, 많은 종업원들도 지옥과 같은 한 해를 보냈다.\n",
            "그는 \"아마 이번 불매운동은 미국인들에게 눈을 뜨고 친이스라엘을 포기하라는 메시지가 될 것이다\"고 덧붙였다.\n",
            "투쟁하는 이와 인내하는 이들, 그리고 성스러운 투사들에게 주는 위대한 교훈과 계명들\"이라는 책자를 내놓았다.\n",
            "그러나 루이스 톰슨 개발공사 사장은 목요일 9개 디자인 중 하나를 토대로 한 건물이 지어질 것이라고 밝혔다.\n",
            "자기의 딸들이 남자아이들과 똑같이 교육을 받을 수 있는 기회가 주어져야 한다고 주장하는 여성들을 보았습니다.\n",
            "방송망의 황금 시간대시청자들의 40%를 빼았아 간 다른 오락물의 점증하는 인기에도 불구하고 이것은 사실이다.\n",
            "토론 그룹의 다른 남자들은 여자들이 40세가 되면 자신들의 외모에 상당히 관심을 갖게 된다고 생각하고 있다.\n",
            "남북교류 역시 북한이 지난달 원자탄을 만드는 핵개발 프로그램을 재개하기위한 조치를 취한 이래 활발하지 않다.\n",
            "그는 우주의 물체를 감시하는 미공군 우주사령부가 이 물체에 관한 자료를 조사관들에게 제공하고 있다고 말했다.\n",
            "인구가 많은 대부분의 나라에서는 출산율이 낮을 것으로 예측되긴 하지만 인구가 크게 늘 것으로 예상되고 있다.\n",
            "이것은 속세의 기준으로는 가능성이 별로 없는 것처럼 들릴지도 모르지만 소행성 관측자들에게는 대단한 것이었다.\n",
            "그 흔적들은 식었지만 당시 바위조각, 재 및 가스가 흘러나온 곳을 걸어지나갔던 세 사람이 남겨놓은 것이었다.\n",
            "그렇게 될 때까지는 인터넷을 이용하는 사람들은 많은 사이트에 접속이 되지않을 수도 있다고 전문가들은 말한다.\n",
            "오늘날은 부자로서 자격을 갖추려면 연간 소득이 1백만달러가 되거나 실질 재산으로 1천만 달러가 있어야 한다.\n",
            "저주받을, (=under a curse), 몹시 싫은(=hateful), 가증스러운 (=detestable)\n",
            "쿠퍼는 상을 받고 ''이 세상의 모든 분쟁이란 점에서 볼 때 우리 모두가 평화롭기를 바랍니다’’라고 말했다.\n",
            "이 지역에서 ''중증 급성 호흡기 증후군 (SARS)’’ 발병 건수는 최근 며칠 동안 속도을 더해가고 있다.\n",
            "만일 그러한 바위가 지구에 충돌하면 많은 핵폭탄과 같은 양의 에너지가 방출될 것이라고 천문학자들은 추정한다.\n",
            "13세의 이 하와이출신 한국계 미국선수는 므니에 르부크에 4타 뒤진 상태에서 이날 최종일 경기를 시작했었다.\n",
            "15번 홀에서도 계속 세차례나 퍼팅을 했던 미셸 위는 ''그 홀이 내가 무너지게 된 원인이었다’’고 말했다.\n",
            "연구원들은 이 질병들을 퇴치하는 데 도움을 주기 위해서는 매년 80억달러가 제공되어야 한다고 권고하고 있다.\n",
            "이번 주 초, 미국은 지난 달 군사 훈련을 위해 배치된 스텔스 전투기를 계속해서 한국에 두고 있다고 밝혔다.\n",
            "물론 장관이다. 미 육군은 월요일 사담 후세인의 신대통령궁을 폭격한 뒤 이곳에 진입해 정리 목록을 만들었다.\n",
            "지금은 반파된 주 건물은 모래색의 벽돌로 되어있고, 지붕은 청색과 황금색의 세라믹 타일 돔으로 덮여 있었다.\n",
            "그러나 하루에 4컵 이상으로 분류되는 지나친 음주는 적당한 음주로부터 얻게 되는 건강상의 이득을 감소시켰다.\n",
            "이 박물관에는 익는 동안 땅속에 김치를 저장하는 데 쓰는 유약으로 반들반들 한 갈색의 독을 전시 하고 있다.\n",
            "오늘날 공장에서 김치를 대량생산하고 있지만 맛에서는 어느 것도 어머니가 집에서 담근 김치를 당해낼 수 없다.\n",
            "그는 3일 전 바그다드 내 해병대 본부로 가서 수시간을 기다려 한 대령과 경비문제에 관해 의논했다고 밝혔다.\n",
            "5인치 X 3인치 크기의 이 장치는 최대 1기가헤르츠의 프로세서에서 마이크로소프트 윈도우 XP를 작동시킨다.\n",
            "거기서 자기 위해 밤 에 담을 뛰어 넘었습니다만 왕궁은 난방이 안돼 너무 눅눅했습니다’’라고 이씨는 밝힌다.\n",
            "솔직한, 숨김없는 (=frank in speech, often to the point of rudeness;\n",
            "그는 ''우리 모두 카트리나를 사랑하며, 그녀가 되돌아와 기쁘게 맞을 수 있는 날을 고대한다’’고 덧붙였다.\n",
            "액체 형태의 물은 어떤 행성에 지구에서와 같은 유형의 생명체가 존재할 수 있는 전제 조건으로 여겨지고 있다.\n",
            "유럽 전역에서 수백만대의 컴퓨터들이 쓰레기 더미에 버려지고 있어, 첨단 기술에 의한 환경 위험을 낳고 있다.\n",
            "부모들은 단체 정신과 인내심을 배우게 하기 위해 자녀들을 해병대가 운영하는 특별 신병훈련소에 보내기도 한다.\n",
            "포란 대변인은 수사를 혼란케 할 수도 있다는 이유로 경찰관 몇 명 이 수사에 투입되었는지 밝히기를 거부했다.\n",
            "지난 수년동안 북한은 국영배급제도와는 별도로 ''농민시장’’으로 알려진 소규모 교역소들의 운영을 용인해왔다.\n",
            "맥도날드는 새로운 정책결정 문건을 작성하면서 과학자와 환경 방위 등 환경관련 압력 단체들과 폭넓게 논의했다.\n",
            "포레티는 2, 3주일 동안 부목을 하고 있어야함에도 불구하고, 수술 직후에 곧바로 통증이 없어졌다고 말한다.\n",
            "법률상 정부 고위직을 원하거나 국회위원에 출마할 사람들은 자신들뿐 아니라 아들들의 복무기록도 공표해야 한다.\n",
            "지난 세기의 많은 시간을 거치며 자유와 민주주의에 대한 미국의 신념은 격노하는 바다 속의 바위와 같았습니다.\n",
            "이들은 인삼, 도자기, 한국화, 심지어 독주에 꼬부라진 탈색된 뱀이 든 술병 즉 '뱀술’까지 진열해 놓았다.\n",
            "김 대변인은 ''언제 결과가 나올지 알 수 없지만 이사회는 오늘 중 결정을 내리려 하고 있다’’고 덧붙였다.\n",
            "노대통령은 북한 핵개발 계획에 관한 분쟁을 해결하기 위해 중국이 ''건설적인 역할’’을 해줄 것을 촉구했다.\n",
            "2002년에 이 나라에 월 마트가 최초의 거대 상점을 개점한 후에 이와같은 드라마가 일본에서 전개될 것이다.\n",
            "하지만 (일본에 출현한 월 마트의) 가장 큰 상징직인 영향은 일본의 진부한 인식을 자극하는 것이 될 것이다.\n",
            "\"20년 전에, 일본 사람은 자기 아들이나 딸이 미국 회사에 일하러 간다면, 그에 대해 해명을 했을 겁니다.\n",
            "이 그룹에 속한 사람들은 3개월만에 약 9파운드를 줄였으며, 이후 3개월 동안 체중이 빠진 상태를 유지했다.\n",
            "美 심장 협회는 최근 식이요법 지침을 바꾸어 성인들이 일주일에 최소한 두차례는 생선을 먹도록 권고하고 있다.\n",
            "예를들어, 기후 변화와 관련된 위험성을 보험 할증료에 포함시키는 보험사는 거의 없다고 이 보고서는 주장했다.\n",
            "소프트웨어 회사들은 아시아-테평양 지역에서 해적 행위로 인해 2000년에 40억 달러 이상의 손해를 보았다.\n",
            "6년 전, 연방 통신 위원회(FCC)는 전화 회사들에게 2005년까지 그러한 것이 가능하게 하라고 명령했다.\n",
            "소매 채널을 통해 PC를 판매하자는 제안은 개방적인 체제에 부합되는 의사 결정으로 이어졌다고 로우는 말한다.\n",
            "콜금리에 대한 중앙 은행의 목표 수치인 연방 기금율은 현재 1994년 3월 이래 최저 수준인 3.50%이다.\n",
            "\"이런 아이들의 대다수는 돈을 벌기 위해, 또는 보다 값비싼 옷과 다른 소비재를 사기 위해 성매매를 합니다.\n",
            "그는 또한 프랑스, 러시아, 중국 대통령들을 포함하여 세계의 다른 지도자들과도 논의할 계획을 마련해 놓았다.\n",
            "당시 현장을 촬영한 감시카메라에 녹화된 장면이 1일(현지시간) 뉴욕시민자유연합(NYCLU)에 의해 공개됐다.\n",
            "2년 전 피닉스에서 실시됐던 실험을 통해 가짜 과속방지턱은 일시적으로 속도를 늦추는 효과가 있음이 입증됐다.\n",
            "국영언론은 29일(현지시간) 올림픽 요트 경기가 치러질 해안에 덮여있는 녹조 10만톤을 제거했다고 보도했다.\n",
            "뉴욕시 주민의 25%인 2만1000명이 HIV에 감염되어 있으며 이들 대부분이 브롱스 지역에 거주하고 있다.\n",
            "그는 온난화에따라 국민들이 조국을 버리고 도피하고 있으며 일부는 테러리스트로 변할 수 있다며 우려를 표했다.\n",
            "올메르트 총리는 납치된 병사의 부인인 카니트 골드와서에게 교섭을 위한 정부의 노력이 지전되고 있다고 밝혔다.\n",
            "한편 실링은 포스트시즌에서 10승 이상을 기록한 역대 투수 중 가장 좋은 성적인 11승2패의 성적을 남겼다.\n",
            "넬슨 만델라 전 남아프리카공화국 대통령의 90번째 생일을 맞아 열린 축하행사가 영국 런던에서 열릴 예정이다.\n",
            "페더러는 “정말로 기분 좋다”며 “서브 게임을 잃지 않고 기록을 세우게 된 것이 처음이다”고 소감을 밝혔다.\n",
            "버팔로 바이런 W. 브라운 시장은 이날 시내 모든 도시에 러스트의 명복을 빌기 위해 반기를 걸라고 지시했다.\n",
            "오바마는 이날 연설에서 유복자로 자란 자신의 경험을 빗대어 이같이 설명하며 좋은 아버지가 될 것을 요구했다.\n",
            "아일랜드가 12일 유럽연합(EU) 통합을 합리화하는 ‘리스본 조약’의 승인 여부를 묻는 국민투표에 들어갔다.\n",
            "배심장은 바흐라 판사에게 배심원 5명 중 4명이 재판 중 30분 동안 스도쿠 게임을 하고 있었다고 인정했다.\n",
            "영화 제작사는 성명을 통해 베이징에서 이 영화의 액션 장면을 촬영하던 10일 오전 화재가 발생했다고 전했다.\n",
            "이동관 청와대 대변인은 “이 대통령이 사표를 수리할 때까지 국무위원 8명은 현직에서 일할 것”이라고 밝혔다.\n",
            "아사르 미누라 초드리 전 대법원장 측 대변인은 “정부는 즉각적으로 공약을 실시하길 바란다”는 입장을 전했다.\n",
            "또 힐러리가 해리 레이드 의원이 맡고 있는 민주당 상원 원내대표에 출마할 수도 있다는 가설이 제기되고 있다.\n",
            "이 단체는 영국 정부가 식품회사들이 비교적 안전한 인공색소를 사용하도록 효율적으로 통제하고 있다고 지적했다.\n",
            "법원은 동물보호 운동가로 활동 중인 브리짓 바르도에게 2만3325달러(약 2400만원)의 벌금형을 선고했다.\n",
            "케냐 수도 나이로비에 한 여성은 웃으며 “케냐 출신인 오바마가 민주당 경선에 승리해 정말 기쁘다\"고 말했다.\n",
            "중국 당국은 4일(현지시간) 남부에 방수로를 설치했던 언색호의 수위가 높아지자 이를 긴장하며 지켜보고 있다.\n",
            "독일 남서부에 강풍을 동반한 호우가 내려 3명이 숨지고 수십명이 다쳤다고 2일(현지시간) 관계당국이 밝혔다.\n"
          ]
        }
      ],
      "source": [
        "check_sentence_with_length(raw, 60)"
      ]
    },
    {
      "cell_type": "code",
      "execution_count": null,
      "id": "879ba151",
      "metadata": {
        "id": "879ba151",
        "outputId": "45dfbf18-0918-4299-a1eb-949747fb3f42"
      },
      "outputs": [
        {
          "name": "stdout",
          "output_type": "stream",
          "text": [
            "11\n",
            "19\n",
            "21\n"
          ]
        }
      ],
      "source": [
        "for idx, _sum in enumerate(sentence_length):\n",
        "    # 문장의 수가 1500을 초과하는 문장 길이를 추출합니다.\n",
        "    if _sum > 1500 :\n",
        "        print (idx+1)"
      ]
    },
    {
      "cell_type": "code",
      "execution_count": null,
      "id": "b8c57558",
      "metadata": {
        "id": "b8c57558",
        "outputId": "bec995db-4d09-4e39-b631-a1b4d523e2e4"
      },
      "outputs": [
        {
          "name": "stdout",
          "output_type": "stream",
          "text": [
            "미국과 영국의 과학자들이 악수를 했다.\n",
            "인력은 기계에 의해 보강되어야만 했다.\n",
            "\"시장은 그들에게 넓게 열려 있습니다.\n",
            "아디다스는 또 다른 이점도 갖고 있다.\n",
            "공부를 위해서만 이용하겠다고 말입니다.\n",
            "환경법규의 도입은 고통스러운 과정이다.\n",
            "- 여보, 이쪽이야, 아니면 저쪽이야?\n",
            "인도는 훨씬 늦게 게임에 뛰어 들었다.\n",
            "요즘 대부분의 기업들이 그렇지 않은가?\n",
            "카리스마적인 지도자들은 위험을 즐긴다.\n",
            "우리가 하려고 하는 일의 모델은 없다.\n",
            "정상 회담은 오늘 늦게 끝날 것입니다.\n",
            "그리고 공화당의 추정은 절반만 맞았다.\n",
            "하지만 증가하고 있는 노인 인구수에따라\n",
            "민간부문에서 그런 일을 할 수는 없다고\n",
            "금년초 이라크 정보부는 \"사담 후세인:\n",
            "실제로 이 방법은 만족스럽지가 못하다.\n",
            "카자흐스탄으로부터 중국으로 입국하려다가\n",
            "클립퍼 칩에 대한 이야기로 들어 가자.\n",
            "북한의 무기 개발에 대한 CIA 보고서\n",
            "어려움을 겪고 있는 멕시코 경제에 대한\n",
            "그는 ''미국은 우리의 최악의 적이다.\n",
            "수로가 오염되고 야생동물이 밀렵되었다.\n",
            "이런 지역들을 보살피고 보호해야 한다.\n",
            "학습 방법은 훨씬 더 흠칫한 것입니다.\n",
            "포옹은 심장에 좋은 약 일 수 도 있다\n",
            "(경찰은 심문을 위해 그를 구금했다.)\n",
            "금년에는 이 숫자가 58%로 증가했다.\n",
            "(금고를 뒤져 많은 서류를 가져갔다.)\n",
            "김치는 열량은 적고 비타민은 풍부하다.\n",
            "smear campaign (흑색선전)\n",
            "아들은 아버지로부터 사업을 이어받는다.\n",
            "그것은 한계 효과가 나타나는 시기이다.\n",
            "\"사람들에게 선택권이 주어져야 합니다.\n",
            "로야 저가는 임시 의사 결정 집단이다.\n",
            "160석이 여성 대표들에게 보장되었다.\n",
            "걷기 용으로 고안된 신발이 가장 좋다.\n",
            "이것을 일주일에 5번 정도 해야 한다.\n",
            "해외 판권은 이미 16개국에서 팔렸다.\n",
            "그리고 나는 이렇게 엄숙히 서약합니다:\n",
            "하지만 오늘의 주제를 그는 알것입니다:\n",
            "(그 사건들은 전쟁 발발로 발전했다.)\n",
            "\"그는 정말로 국민들을 실망시켰습니다.\n",
            "\"제국의 반격\"과 새 영화 \"스타워즈:\n",
            "남북간 해상 교전으로 남한 경비정 침몰\n",
            "공룡들은 필연적으로 굶어 죽게 되었다.\n",
            "新 나치주의자의 시락 대통령 암살 기도\n",
            "그는 또 사무실 출입문에 불을 질렀다.\n",
            "영화 ‘월E’는 완벽한 영화는 아니다.\n",
            "부상자수는 지난주 초 12명 증가했다.\n",
            "이는 지난 2005년 사실상 중단됐다.\n",
            "프라나브 메타는 빛이 없이 살고 있다.\n",
            "일부 학부모들은 황당함을 금치 못했다.\n",
            "부상자 중 8명은 경찰관으로 알려졌다.\n",
            "그는 자전거로 통근하는 것을 좋아한다.\n",
            "짐바브웨 대선은 3월 29일 실시됐다.\n",
            "시이저 흉상 만으로도 대단한 발견이다.\n",
            "은퇴를 결정한 것에 대한 후회는 없다.\n",
            "이 교회 소속 신도는 약 30명 이다.\n",
            "이 공격으로 의원 포함 3명이 숨졌다.\n",
            "기내에서 맨 앞 좌석이 가장 한적하다.\n",
            "8명의 대의원은 아직 배정되지 않았다.\n",
            "남아공은 2010년 월드컵을 개최한다.\n",
            "그는 군인들과 무사히 탈출에 성공했다.\n",
            "경찰 당국은 부상자는 없었다고 밝혔다.\n",
            "이들은 매일 같은 일상을 되풀이 한다.\n",
            "이 경우,탐정처럼 병원을 찾아야 한다.\n",
            "미국은 그를 매우 악한 인물로 평했다.\n",
            "이들이 펼친 현수막에는 “하나의 세계.\n",
            "최근들어 남성 게이샤가 증가하고 있다.\n",
            "아직 구속수사 여부는 밝혀지지 않았다.\n",
            "Eyewitness to Murder:\n",
            "상점으로서는 현금 지불을 더 선호한다.\n",
            "이번 사고로 고속도로 전체가 폐쇄됐다.\n",
            "이라크 전쟁은 지난주 5주년을 맞았다.\n",
            "또한 고령화에 따른 문제점도 제기했다.\n",
            "2004년 총선의 투표율은 75%였다.\n",
            "강아지의 생사 여부는 밝혀지지 않았다.\n",
            "텍사스주 프라이머리도 결과는 비슷했다.\n",
            "남편 앤서니에게는 3명의 자식이 있다.\n",
            "텍사스는 193명의 대의원이 걸려있다.\n",
            "이번 비행에는 승객이 탑승하지 않았다.\n",
            "마다가스카르 인구는 1940만 명이다.\n",
            "* 죠셉 라이델 워싱턴주 아메리칸 대학\n",
            "취미로 수집한 페니가 대박을 터뜨렸다.\n",
            "무엇인가를 기념하는 것은 좋은 것이다.\n",
            "미 경기후퇴가 현실화되고 있는 것이다.\n",
            "그는 5일 동안 집에서 병을 앓았었다.\n",
            "관계당국은 검거사실을 18일 발표했다.\n",
            "ABC가 이 시상식을 방영할 계획이다.\n",
            "자살폭탄테러로 민간인도 희생되고 있다.\n",
            "현재 수천명이 교회 뜰에 대피해 있다.\n",
            "한편 CES는 일반에 공개되지 않는다.\n",
            "이 조사의 표본오차는 ±5%포인트였다.\n",
            "이들은 성명을 통해 “쿠퍼는 누구인가?\n",
            "신드는 부토의 고향이며 지지 기반이다.\n",
            "할렘은 최근 관광객들로 넘쳐나고 있다.\n",
            "존 레논의 머리카락이 경매에 올라왔다.\n",
            "팍톤은 머리를 숙인 채 평결을 들었다.\n",
            "그는 4일 오후 사기 혐의로 체포됐다.\n",
            "경찰은 그의 소지품 대부분을 압수했다.\n"
          ]
        }
      ],
      "source": [
        "check_sentence_with_length(raw, 21)"
      ]
    },
    {
      "cell_type": "code",
      "execution_count": null,
      "id": "268a6602",
      "metadata": {
        "id": "268a6602",
        "outputId": "61a4f3b2-e126-47d6-ded0-1c93bd8f3fc4"
      },
      "outputs": [
        {
          "name": "stdout",
          "output_type": "stream",
          "text": [
            "성공할 수 있는 일들이 있습니다.\"\n",
            "두번째 목적은 상품을 파는 것이다.\n",
            "그것들은 무엇을 하기 위한 것인가?\n",
            "- 어째서 그렇게 대단한 것입니까?\n",
            "불매운동가들의 시선을 끌고 싶은가?\n",
            "그리고 우리는 계속해서 외식을 하며\n",
            "(나는 그가 정직하다고 생각한다.)\n",
            "박스데일도 동일한 기법을 사용한다.\n",
            "\"우리는 전속력으로 달려야 합니다.\n",
            "수익은 연 25%씩 늘어나고 있다.\n",
            "미국인 반체제 인사 해리 우의 운명\n",
            "국가를 위해 좋은 일이 될 것이라고\n",
            "무역 적자는 무역 흑자로 돌아섰으며\n",
            "경찰에서조차 수사를 벌이고 있습니다\n",
            "다음 번이 3월1일로 예정되어있다.\n",
            "우리는 허구적인 시대에 살고 있다.\n",
            "모 아니면 도였지요’’라고 말했다.\n",
            "이씨는 짧았던 결혼을 세 번 했다.\n",
            "하지만 성인이 되려면 아직 멀었다.\n",
            "양국은 상호 3위의 교역상대국이다.\n",
            "어떻게 지속적인 동기부여를 받느냐?\n",
            "편지는 의사소통 이상의 일을 한다.\n",
            "식량 부족으로 고통받는 북한 주민들\n",
            "그는 뉴욕 금융지구에 살고 있었다.\n",
            "6. “교회에 열심히 나가는가요?”\n",
            "신문사가 발견된 기밀문서를 받았다.\n",
            "3.인맥을 두루 갖춰놓지 못하는 것\n",
            "15.면접 질문에 집중하지 않는 것\n",
            "20.월급 이야기를 일찍 꺼내는 것\n",
            "디아즈는 진지해지려고 하지 않는다.\n",
            "전갈은 월마트 직원에 의해 잡혔다.\n",
            "4.여성은 증상을 스스로 진단한다.\n",
            "당시 휴스는 \"나는 다스 베이더다!\n",
            "회사에 대해 약간의 조사를 한다.:\n",
            "스폰지에 물을 묻혀 청소해도 된다.\n",
            "그러나 이를 뒷받침할 증거는 없다.\n",
            "그는 올해 가을 손자를 보게 된다.\n",
            "린은 칼을 이용해 쓰레기를 뒤진다.\n",
            "거주지가 소아과 병원 인근일 경우.\n",
            "언제든 메모해 두고 가지고 다닌다.\n",
            "대법원의 심리는 6일부터 시작됐다.\n",
            "* 원하는 가격에 흥정을 하는 방법\n",
            "그는 치료 중이던 26일 사망했다.\n",
            "무샤라프 대통령은 참석하지 않았다.\n",
            "이미 경영진 2500명이 해임됐다.\n",
            "스피처는 3명의 자녀를 두고 있다.\n",
            "이들은 보통 10일 내로 사망한다.\n",
            "그는 “왜 대통령이 되려 하느냐?”\n",
            "* 뗏목, 카누등을 타고 구경할 때\n",
            "유대인연합은 법원 결정을 환영했다.\n",
            "\"반사적으로 유도 기술을 사용했다.\n",
            "위원회는 4월 최종 결론을 내린다.\n",
            "기자와 승무원은 얼마 후 석방됐다.\n",
            "그는 아버지와 닮은 것을 인정했다.\n",
            "대부분 서신 시작 내용은 평범하다.\n",
            "그러나 예기치 못한 반전이 있었다.\n",
            "그러던 닌이 이번 에 은퇴를 한다.\n",
            "선거의 최종결과는 24일 발표된다.\n",
            "그는 “위험이 존재한다”고 말했다.\n",
            "아유무라는 침팬지가 가장 잘 했다.\n",
            "이들은 테러 관련 혐의로 수감됐다.\n",
            "*물건은 포장지로 포장하지 않는다.\n",
            "윤리적이고 정치적인 장애물이 있다.\n",
            "유로스타의 운행은 중단되지 않는다.\n",
            "반면 유럽 증시는 보합세를 보였다.\n",
            "고 탄성을 지르는 것을 알고 있다.\n",
            "버섯은 저칼로이지만 영양가는 낮다.\n",
            "소도시와 대도시간 통신도 중단됐다.\n",
            "추락 원인은 아직 알려지지 않았다.\n",
            "실제 아무 문제가 없다”고 전했다.\n",
            "그는 인명피해는 없었다고 덧붙였다.\n",
            "또 최소 30명이 다쳤다고 전했다.\n",
            "이 교전에서 반군 65명이 숨졌다.\n",
            "‘불비’가 3일 동안 계속 내렸다.\n",
            "물론 아이들은 이 주형을 좋아했다.\n",
            "공항 근처의 보안도 한층 강화됐다.\n",
            "체코에서 맥주는 기본적인 음료이다.\n",
            "그러나 체코 사람들은 그렇지 않다.\n",
            "내년 여름에는 자동차를 이용할 것.\n",
            "마샬은 정교하고 신중한 사람이었다.\n",
            "무엇이 이 변질을 가속화 시키는가?\n",
            "팩은 라이스와 함께 운전 중이었다.\n",
            "이 교회는 신석기 시대 묘지였었다.\n",
            "이라크의 인구는 2600만명이이다.\n",
            "비록 짧은 모험이지만 ‘트랜스포머:\n",
            "랜즈먼은 또 다른 문제에 직면했다.\n",
            "브랜든 톰슨 소방관, 27 (4년)\n",
            "최종 결정은 오는 26일 내려진다.\n",
            "젊은 부부는 벨스에 집을 장만했다.\n",
            "그의 아버지도 이 사실을 확인했다.\n",
            "이 시계가 땅바닥에 떨어진 것일까?\n",
            "또한 인명 피해도 없었다고 말했다.\n",
            "그러나 우리를 너무 무시하고 있다.\n",
            "마가 말한것은 옳지않다\"고 말했다.\n",
            "\"이전 탄압은 매우 복잡한 문제다.\n",
            "뱀의 가격은 아직 알려지지 않았다.\n",
            "이 컴퓨터가 얼마나 환경친화적인가?\n",
            "최근 이라크 유치원 졸업식의 풍경.\n",
            "▲오바마, \"1등은 장난이 아니야\"\n",
            "그 모든 것은 오래전부터 시작됐다.\n",
            "금속 지붕은 폭발로 떨어져 나갔다.\n"
          ]
        }
      ],
      "source": [
        "check_sentence_with_length(raw, 19)"
      ]
    },
    {
      "cell_type": "code",
      "execution_count": null,
      "id": "27011d4e",
      "metadata": {
        "id": "27011d4e",
        "outputId": "70dcda19-1542-4a9d-8cbc-f21e1ea8ebb1"
      },
      "outputs": [
        {
          "name": "stdout",
          "output_type": "stream",
          "text": [
            "라고 조던이 말했다.\n",
            "- 모르고 있습니다.\n",
            "- 네, 보이는군요.\n",
            "디즈니사만이 아니다.\n",
            "큰 파티는 아니지요.\n",
            "의자는 비어 있었다.\n",
            "이 일은 계속됩니다.\n",
            "나는 크게 실망했다.\n",
            "그 이유는 간단하다.\n",
            "이력서와 자기 소개서\n",
            "시대가 변하고 있다.\n",
            "는 돌발질문을 했다.\n",
            "9. 몇 분간의 명상\n",
            "하와이, 빅 아일랜드\n",
            "키스를 잘 하는 방법\n",
            "키스를 잘 하는 방법\n",
            "스피어스가 뚱뚱한가?\n",
            "산 위를 나는 느낌.\n",
            "세 시간쯤 걸었을까?\n",
            "(아직 읽고있습니까?\n",
            "처음에는 장난이었다.\n",
            "우리는 운이 좋았다.\n",
            "아기가 숨을 멈출 때\n",
            "건물 전체 무너져내려\n",
            "그녀의 아름다운 눈.\n",
            "대답은 다음과 같다.\n",
            "\"사과할 것이 없다.\n",
            "폭탄테러가 공포 유발\n",
            "그는 \"잘 모르겠다.\n",
            "그는 \"잘 모르겠다.\n",
            "그는 \"잘 모르겠다.\n",
            "그는 \"잘 모르겠다.\n",
            "그는 \"잘 모르겠다.\n",
            "그는 \"잘 모르겠다.\n",
            "그는 \"잘 모르겠다.\n",
            "그는 \"잘 모르겠다.\n",
            "그는 \"잘 모르겠다.\n",
            "케냐 야생동물 고아원\n",
            "경유 1200원대로…\n",
            "더 내려야 하는 이유\n",
            "케냐 야생동물 고아원\n",
            "경유 1200원대로…\n",
            "더 내려야 하는 이유\n",
            "케냐 야생동물 고아원\n",
            "경유 1200원대로…\n",
            "더 내려야 하는 이유\n",
            "케냐 야생동물 고아원\n",
            "경유 1200원대로…\n",
            "더 내려야 하는 이유\n",
            "케냐 야생동물 고아원\n",
            "경유 1200원대로…\n",
            "더 내려야 하는 이유\n",
            "케냐 야생동물 고아원\n",
            "경유 1200원대로…\n",
            "더 내려야 하는 이유\n",
            "케냐 야생동물 고아원\n",
            "경유 1200원대로…\n",
            "더 내려야 하는 이유\n",
            "케냐 야생동물 고아원\n",
            "경유 1200원대로…\n",
            "더 내려야 하는 이유\n",
            "케냐 야생동물 고아원\n",
            "경유 1200원대로…\n",
            "더 내려야 하는 이유\n",
            "케냐 야생동물 고아원\n",
            "경유 1200원대로…\n",
            "더 내려야 하는 이유\n",
            "케냐 야생동물 고아원\n",
            "경유 1200원대로…\n",
            "더 내려야 하는 이유\n",
            "케냐 야생동물 고아원\n",
            "경유 1200원대로…\n",
            "더 내려야 하는 이유\n",
            "케냐 야생동물 고아원\n",
            "경유 1200원대로…\n",
            "더 내려야 하는 이유\n",
            "케냐 야생동물 고아원\n",
            "경유 1200원대로…\n",
            "더 내려야 하는 이유\n",
            "케냐 야생동물 고아원\n",
            "경유 1200원대로…\n",
            "더 내려야 하는 이유\n",
            "케냐 야생동물 고아원\n",
            "경유 1200원대로…\n",
            "더 내려야 하는 이유\n",
            "케냐 야생동물 고아원\n",
            "경유 1200원대로…\n",
            "더 내려야 하는 이유\n",
            "케냐 야생동물 고아원\n",
            "경유 1200원대로…\n",
            "더 내려야 하는 이유\n",
            "케냐 야생동물 고아원\n",
            "경유 1200원대로…\n",
            "더 내려야 하는 이유\n",
            "케냐 야생동물 고아원\n",
            "경유 1200원대로…\n",
            "더 내려야 하는 이유\n",
            "조금은 새침한 샬롯？\n",
            "조금은 새침한 샬롯？\n",
            "케냐 야생동물 고아원\n",
            "경유 1200원대로…\n"
          ]
        }
      ],
      "source": [
        "check_sentence_with_length(raw, 11)"
      ]
    },
    {
      "cell_type": "code",
      "execution_count": null,
      "id": "3dbb64ef",
      "metadata": {
        "id": "3dbb64ef",
        "outputId": "9f25aea5-7824-40a2-a16a-a60ee9ed828a"
      },
      "outputs": [
        {
          "name": "stdout",
          "output_type": "stream",
          "text": [
            "Data Size: 77591\n",
            "문장의 최단 길이: 1\n",
            "문장의 최장 길이: 377\n",
            "문장의 평균 길이: 64\n"
          ]
        },
        {
          "data": {
            "image/png": "[encoded data removed]",
            "text/plain": [
              "<Figure size 432x288 with 1 Axes>"
            ]
          },
          "metadata": {
            "needs_background": "light"
          },
          "output_type": "display_data"
        }
      ],
      "source": [
        "min_len = 999\n",
        "max_len = 0\n",
        "sum_len = 0\n",
        "\n",
        "cleaned_corpus = list(set(raw))  # set를 사용해 중복을 제거합니다.\n",
        "print(\"Data Size:\", len(cleaned_corpus))\n",
        "\n",
        "for sen in cleaned_corpus:\n",
        "    length = len(sen)\n",
        "    if min_len > length: min_len = length\n",
        "    if max_len < length: max_len = length\n",
        "    sum_len += length\n",
        "\n",
        "print(\"문장의 최단 길이:\", min_len)\n",
        "print(\"문장의 최장 길이:\", max_len)\n",
        "print(\"문장의 평균 길이:\", sum_len // len(cleaned_corpus))\n",
        "\n",
        "sentence_length = np.zeros((max_len), dtype=int)\n",
        "\n",
        "for sen in cleaned_corpus:   # 중복이 제거된 코퍼스 기준\n",
        "    sentence_length[len(sen)-1] += 1\n",
        "\n",
        "plt.bar(range(max_len), sentence_length, width=1.0)\n",
        "plt.title(\"Sentence Length Distribution\")\n",
        "plt.show()"
      ]
    },
    {
      "cell_type": "code",
      "execution_count": null,
      "id": "65235c7f",
      "metadata": {
        "id": "65235c7f"
      },
      "outputs": [],
      "source": [
        "max_len = 150\n",
        "min_len = 10\n",
        "\n",
        "# 길이 조건에 맞는 문장만 선택합니다.\n",
        "filtered_corpus = [s for s in cleaned_corpus if (len(s) < max_len) & (len(s) >= min_len)]\n"
      ]
    },
    {
      "cell_type": "code",
      "execution_count": null,
      "id": "063bd42c",
      "metadata": {
        "id": "063bd42c",
        "outputId": "6a9df8d5-77b9-404e-f7a8-e2f568e61142"
      },
      "outputs": [
        {
          "name": "stdout",
          "output_type": "stream",
          "text": [
            "Data Size: 76908\n"
          ]
        },
        {
          "data": {
            "image/png": "[encoded data removed]",
            "text/plain": [
              "<Figure size 432x288 with 1 Axes>"
            ]
          },
          "metadata": {
            "needs_background": "light"
          },
          "output_type": "display_data"
        }
      ],
      "source": [
        "sentence_length = np.zeros((max_len), dtype=int)\n",
        "\n",
        "for sen in filtered_corpus:\n",
        "    sentence_length[len(sen)-1] += 1\n",
        "    \n",
        "print(\"Data Size:\", len(filtered_corpus))\n",
        "    \n",
        "plt.bar(range(max_len), sentence_length, width=1.0)\n",
        "plt.title(\"Sentence Length Distribution\")\n",
        "plt.show()"
      ]
    },
    {
      "cell_type": "markdown",
      "id": "88ad009f",
      "metadata": {
        "id": "88ad009f"
      },
      "source": [
        "## 공백기반 토큰화"
      ]
    },
    {
      "cell_type": "code",
      "execution_count": null,
      "id": "b7ebc648",
      "metadata": {
        "id": "b7ebc648"
      },
      "outputs": [],
      "source": [
        "def tokenize(corpus): \n",
        "    tokenizer = tf.keras.preprocessing.text.Tokenizer(filters='')\n",
        "    tokenizer.fit_on_texts(corpus)\n",
        "    \n",
        "    tensor = tokenizer.texts_to_sequences(corpus)\n",
        "\n",
        "    tensor = tf.keras.preprocessing.sequence.pad_sequences(tensor, padding='post')\n",
        "\n",
        "    return tensor, tokenizer\n",
        "    "
      ]
    },
    {
      "cell_type": "code",
      "execution_count": null,
      "id": "af968795",
      "metadata": {
        "id": "af968795"
      },
      "outputs": [],
      "source": [
        "# 정제된 데이터 filtered_corpus를 공백 기반으로 토큰화하여 저장하는 코드를 직접 작성해 보세요.\n",
        "split_corpus = []\n",
        "\n",
        "for kor in filtered_corpus:\n",
        "    split_corpus.append(kor.split())"
      ]
    },
    {
      "cell_type": "code",
      "execution_count": null,
      "id": "caeaa962",
      "metadata": {
        "id": "caeaa962",
        "outputId": "95388b20-9e79-4fcb-cfe6-a08498945a04"
      },
      "outputs": [
        {
          "name": "stdout",
          "output_type": "stream",
          "text": [
            "Split Vocab Size: 237435\n"
          ]
        }
      ],
      "source": [
        "split_tensor, split_tokenizer = tokenize(split_corpus)\n",
        "\n",
        "print(\"Split Vocab Size:\", len(split_tokenizer.index_word))"
      ]
    },
    {
      "cell_type": "code",
      "execution_count": null,
      "id": "5d931c91",
      "metadata": {
        "id": "5d931c91",
        "outputId": "87fcf36e-c79e-4a07-872a-70a6065dd61f"
      },
      "outputs": [
        {
          "name": "stdout",
          "output_type": "stream",
          "text": [
            "0 : 이\n",
            "1 : 밝혔다.\n",
            "2 : 있다.\n",
            "3 : 말했다.\n",
            "4 : 수\n",
            "5 : 있는\n",
            "6 : 그는\n",
            "7 : 대한\n",
            "8 : 위해\n",
            "9 : 전했다.\n",
            "10 : 지난\n",
            "11 : 이번\n",
            "12 : 한\n",
            "13 : 대해\n",
            "14 : 것으로\n",
            "15 : 전\n",
            "16 : 것이라고\n",
            "17 : 미국\n",
            "18 : 있다고\n",
            "19 : 것을\n",
            "20 : 중\n",
            "21 : 미\n"
          ]
        }
      ],
      "source": [
        "for idx, word in enumerate(split_tokenizer.word_index):\n",
        "    print(idx, \":\", word)\n",
        "\n",
        "    if idx > 20: break # idx 는 index"
      ]
    },
    {
      "cell_type": "markdown",
      "id": "eef5cd98",
      "metadata": {
        "id": "eef5cd98"
      },
      "source": [
        "\n",
        "\n",
        "#### 만일 밝 + 혔다 라고 토큰화했다면 어땠을까요? \n",
        "밝 + 히다, 밝 + 다 같은 구절이 등장했을 때, 공통된 어절인 밝 은 하나로 묶여 학습 중에 의미를 파악하기가 수월해지겠죠? 동시에 단어 사전도 효율적으로 축소될 것입니다. 이를 위해 형태소 분석기가 존재합니다!"
      ]
    },
    {
      "cell_type": "markdown",
      "id": "264a8a8c",
      "metadata": {
        "id": "264a8a8c"
      },
      "source": [
        "### 형태소 기반 토큰화 "
      ]
    },
    {
      "cell_type": "code",
      "execution_count": null,
      "id": "18e99469",
      "metadata": {
        "id": "18e99469"
      },
      "outputs": [],
      "source": [
        "def mecab_split(sentence):\n",
        "    return mecab.morphs(sentence)\n",
        "\n",
        "mecab_corpus = []\n",
        "\n",
        "for kor in filtered_corpus:\n",
        "    mecab_corpus.append(mecab_split(kor))"
      ]
    },
    {
      "cell_type": "code",
      "execution_count": null,
      "id": "f81decbb",
      "metadata": {
        "id": "f81decbb",
        "outputId": "f81cbe9f-c274-45f2-ca99-55eafa0c5a6b"
      },
      "outputs": [
        {
          "name": "stdout",
          "output_type": "stream",
          "text": [
            "Mecab Vocab Size: 52279\n"
          ]
        }
      ],
      "source": [
        "mecab_tensor, mecab_tokenizer = tokenize(mecab_corpus)\n",
        "\n",
        "print(\"Mecab Vocab Size:\", len(mecab_tokenizer.index_word))"
      ]
    },
    {
      "cell_type": "markdown",
      "id": "f013d635",
      "metadata": {
        "id": "f013d635"
      },
      "source": [
        "##### cf) Split Vocab Size: 237435"
      ]
    },
    {
      "cell_type": "code",
      "execution_count": null,
      "id": "7eef0859",
      "metadata": {
        "id": "7eef0859",
        "outputId": "d19810c9-153c-47f4-ee79-36ff81a7ccb5"
      },
      "outputs": [
        {
          "name": "stdout",
          "output_type": "stream",
          "text": [
            "생선 , 뼈 없 는 닭 , 적 은 양 의 치즈 는 샐러드 에 단백질 성분 이 강화 되 는 것 을 도와 준다 .\n"
          ]
        }
      ],
      "source": [
        "### Decording Case 1 : tokenizer.sequences_to_texts() \n",
        "\n",
        "texts = mecab_tokenizer.sequences_to_texts([mecab_tensor[100]])\n",
        "print(texts[0])"
      ]
    },
    {
      "cell_type": "code",
      "execution_count": null,
      "id": "fd4bb2c6",
      "metadata": {
        "id": "fd4bb2c6",
        "outputId": "cc07c3a0-1589-42cf-adc6-48b4f6d21a22"
      },
      "outputs": [
        {
          "name": "stdout",
          "output_type": "stream",
          "text": [
            "생선 , 뼈 없 는 닭 , 적 은 양 의 치즈 는 샐러드 에 단백질 성분 이 강화 되 는 것 을 도와 준다 . \n"
          ]
        }
      ],
      "source": [
        "# Decording Case 2 : tokenizer.index_word\n",
        "\n",
        "sentence = \"\"\n",
        "\n",
        "for w in mecab_tensor[100]:\n",
        "    if w == 0: continue\n",
        "    sentence += mecab_tokenizer.index_word[w] + \" \"\n",
        "    \n",
        "print(sentence)"
      ]
    },
    {
      "cell_type": "markdown",
      "id": "b7efd017",
      "metadata": {
        "id": "b7efd017"
      },
      "source": [
        "## 프로젝트: SentencePiece 사용하기 -네이버 영화 리뷰"
      ]
    },
    {
      "cell_type": "markdown",
      "id": "dd235056",
      "metadata": {
        "id": "dd235056"
      },
      "source": [
        "### Step 1. SentencePiece 설치하기"
      ]
    },
    {
      "cell_type": "code",
      "execution_count": null,
      "id": "8292eb3c",
      "metadata": {
        "id": "8292eb3c",
        "outputId": "1d544391-2a35-4a70-edfd-84e731fc440f"
      },
      "outputs": [
        {
          "name": "stdout",
          "output_type": "stream",
          "text": [
            "2.6.0\n",
            "1.21.4\n",
            "3.4.3\n",
            "0.5.2\n"
          ]
        }
      ],
      "source": [
        "# setencepiece에서 제공하는 토큰화를 이용해보겠습니다. \n",
        "\n",
        "import tensorflow as tf\n",
        "import numpy as np\n",
        "import matplotlib as plt\n",
        "import konlpy\n",
        "\n",
        "print(tf.__version__)\n",
        "print(np.__version__)\n",
        "print(plt.__version__)\n",
        "print(konlpy.__version__)"
      ]
    },
    {
      "cell_type": "code",
      "execution_count": null,
      "id": "54efc594",
      "metadata": {
        "id": "54efc594"
      },
      "outputs": [],
      "source": [
        "import sentencepiece as spm\n",
        "import os\n",
        "temp_file = os.getenv('HOME')+'/aiffel/sp_tokenizer/data/korean-english-park.train.ko.temp'"
      ]
    },
    {
      "cell_type": "markdown",
      "id": "8319be47",
      "metadata": {
        "id": "8319be47"
      },
      "source": [
        "### Step 2. SentencePiece 모델 학습"
      ]
    },
    {
      "cell_type": "code",
      "execution_count": null,
      "id": "9e3b8011",
      "metadata": {
        "id": "9e3b8011",
        "outputId": "85eb9d6a-7df5-41a2-8d30-a7e9a93f1565"
      },
      "outputs": [
        {
          "name": "stderr",
          "output_type": "stream",
          "text": [
            "sentencepiece_trainer.cc(177) LOG(INFO) Running command: --input=/aiffel/aiffel/sp_tokenizer/data/korean-english-park.train.ko.temp --model_prefix=korean_spm --vocab_size=8000\n",
            "sentencepiece_trainer.cc(77) LOG(INFO) Starts training with : \n",
            "trainer_spec {\n",
            "  input: /aiffel/aiffel/sp_tokenizer/data/korean-english-park.train.ko.temp\n",
            "  input_format: \n",
            "  model_prefix: korean_spm\n",
            "  model_type: UNIGRAM\n",
            "  vocab_size: 8000\n",
            "  self_test_sample_size: 0\n",
            "  character_coverage: 0.9995\n",
            "  input_sentence_size: 0\n",
            "  shuffle_input_sentence: 1\n",
            "  seed_sentencepiece_size: 1000000\n",
            "  shrinking_factor: 0.75\n",
            "  max_sentence_length: 4192\n",
            "  num_threads: 16\n",
            "  num_sub_iterations: 2\n",
            "  max_sentencepiece_length: 16\n",
            "  split_by_unicode_script: 1\n",
            "  split_by_number: 1\n",
            "  split_by_whitespace: 1\n",
            "  split_digits: 0\n",
            "  treat_whitespace_as_suffix: 0\n",
            "  allow_whitespace_only_pieces: 0\n",
            "  required_chars: \n",
            "  byte_fallback: 0\n",
            "  vocabulary_output_piece_score: 1\n",
            "  train_extremely_large_corpus: 0\n",
            "  hard_vocab_limit: 1\n",
            "  use_all_vocab: 0\n",
            "  unk_id: 0\n",
            "  bos_id: 1\n",
            "  eos_id: 2\n",
            "  pad_id: -1\n",
            "  unk_piece: <unk>\n",
            "  bos_piece: <s>\n",
            "  eos_piece: </s>\n",
            "  pad_piece: <pad>\n",
            "  unk_surface:  ⁇ \n",
            "}\n",
            "normalizer_spec {\n",
            "  name: nmt_nfkc\n",
            "  add_dummy_prefix: 1\n",
            "  remove_extra_whitespaces: 1\n",
            "  escape_whitespaces: 1\n",
            "  normalization_rule_tsv: \n",
            "}\n",
            "denormalizer_spec {}\n",
            "trainer_interface.cc(329) LOG(INFO) SentenceIterator is not specified. Using MultiFileSentenceIterator.\n",
            "trainer_interface.cc(178) LOG(INFO) Loading corpus: /aiffel/aiffel/sp_tokenizer/data/korean-english-park.train.ko.temp\n",
            "trainer_interface.cc(385) LOG(INFO) Loaded all 76908 sentences\n",
            "trainer_interface.cc(400) LOG(INFO) Adding meta_piece: <unk>\n",
            "trainer_interface.cc(400) LOG(INFO) Adding meta_piece: <s>\n",
            "trainer_interface.cc(400) LOG(INFO) Adding meta_piece: </s>\n",
            "trainer_interface.cc(405) LOG(INFO) Normalizing sentences...\n",
            "trainer_interface.cc(466) LOG(INFO) all chars count=4996369\n",
            "trainer_interface.cc(477) LOG(INFO) Done: 99.95% characters are covered.\n",
            "trainer_interface.cc(487) LOG(INFO) Alphabet size=1317\n",
            "trainer_interface.cc(488) LOG(INFO) Final character coverage=0.9995\n",
            "trainer_interface.cc(520) LOG(INFO) Done! preprocessed 76908 sentences.\n",
            "unigram_model_trainer.cc(139) LOG(INFO) Making suffix array...\n",
            "unigram_model_trainer.cc(143) LOG(INFO) Extracting frequent sub strings...\n",
            "unigram_model_trainer.cc(194) LOG(INFO) Initialized 174340 seed sentencepieces\n",
            "trainer_interface.cc(526) LOG(INFO) Tokenizing input sentences with whitespace: 76908\n",
            "trainer_interface.cc(537) LOG(INFO) Done! 237965\n",
            "unigram_model_trainer.cc(489) LOG(INFO) Using 237965 sentences for EM training\n",
            "unigram_model_trainer.cc(505) LOG(INFO) EM sub_iter=0 size=92555 obj=14.853 num_tokens=523272 num_tokens/piece=5.65363\n",
            "unigram_model_trainer.cc(505) LOG(INFO) EM sub_iter=1 size=82083 obj=13.516 num_tokens=525776 num_tokens/piece=6.40542\n",
            "unigram_model_trainer.cc(505) LOG(INFO) EM sub_iter=0 size=61555 obj=13.5533 num_tokens=546907 num_tokens/piece=8.88485\n",
            "unigram_model_trainer.cc(505) LOG(INFO) EM sub_iter=1 size=61506 obj=13.5101 num_tokens=547350 num_tokens/piece=8.89913\n",
            "unigram_model_trainer.cc(505) LOG(INFO) EM sub_iter=0 size=46126 obj=13.6926 num_tokens=575369 num_tokens/piece=12.4739\n",
            "unigram_model_trainer.cc(505) LOG(INFO) EM sub_iter=1 size=46126 obj=13.6493 num_tokens=575466 num_tokens/piece=12.476\n",
            "unigram_model_trainer.cc(505) LOG(INFO) EM sub_iter=0 size=34594 obj=13.8894 num_tokens=606014 num_tokens/piece=17.5179\n",
            "unigram_model_trainer.cc(505) LOG(INFO) EM sub_iter=1 size=34594 obj=13.8387 num_tokens=606012 num_tokens/piece=17.5178\n",
            "unigram_model_trainer.cc(505) LOG(INFO) EM sub_iter=0 size=25945 obj=14.1301 num_tokens=637532 num_tokens/piece=24.5724\n",
            "unigram_model_trainer.cc(505) LOG(INFO) EM sub_iter=1 size=25945 obj=14.0747 num_tokens=637568 num_tokens/piece=24.5738\n",
            "unigram_model_trainer.cc(505) LOG(INFO) EM sub_iter=0 size=19458 obj=14.4091 num_tokens=670960 num_tokens/piece=34.4825\n",
            "unigram_model_trainer.cc(505) LOG(INFO) EM sub_iter=1 size=19458 obj=14.3468 num_tokens=670999 num_tokens/piece=34.4845\n",
            "unigram_model_trainer.cc(505) LOG(INFO) EM sub_iter=0 size=14593 obj=14.7196 num_tokens=705636 num_tokens/piece=48.3544\n",
            "unigram_model_trainer.cc(505) LOG(INFO) EM sub_iter=1 size=14593 obj=14.648 num_tokens=705645 num_tokens/piece=48.355\n",
            "unigram_model_trainer.cc(505) LOG(INFO) EM sub_iter=0 size=10944 obj=15.0875 num_tokens=741620 num_tokens/piece=67.765\n",
            "unigram_model_trainer.cc(505) LOG(INFO) EM sub_iter=1 size=10944 obj=15.007 num_tokens=741624 num_tokens/piece=67.7654\n",
            "unigram_model_trainer.cc(505) LOG(INFO) EM sub_iter=0 size=8800 obj=15.3757 num_tokens=769363 num_tokens/piece=87.4276\n",
            "unigram_model_trainer.cc(505) LOG(INFO) EM sub_iter=1 size=8800 obj=15.307 num_tokens=769367 num_tokens/piece=87.4281\n",
            "trainer_interface.cc(615) LOG(INFO) Saving model: korean_spm.model\n",
            "trainer_interface.cc(626) LOG(INFO) Saving vocabs: korean_spm.vocab\n"
          ]
        },
        {
          "name": "stdout",
          "output_type": "stream",
          "text": [
            "-rw-r--r-- 1 root root 376816 Jan 17 10:51 korean_spm.model\r\n",
            "-rw-r--r-- 1 root root 146213 Jan 17 10:51 korean_spm.vocab\r\n"
          ]
        }
      ],
      "source": [
        "\n",
        "vocab_size = 8000\n",
        "\n",
        "with open(temp_file, 'w') as f:\n",
        "    for row in filtered_corpus:   # 이전 스텝에서 정제했던 corpus를 활용합니다.\n",
        "        f.write(str(row) + '\\n')\n",
        "\n",
        "spm.SentencePieceTrainer.Train(\n",
        "    '--input={} --model_prefix=korean_spm --vocab_size={}'.format(temp_file, vocab_size)    \n",
        ")\n",
        "#위 Train에서  --model_type = unigram이 디폴트 적용되어 있습니다. --model_type = bpe로 옵션을 주어 변경할 수 있습니다.\n",
        "\n",
        "!ls -l korean_spm*"
      ]
    },
    {
      "cell_type": "code",
      "execution_count": null,
      "id": "140adebc",
      "metadata": {
        "id": "140adebc",
        "outputId": "e26f10cf-1f7b-4247-d126-1f62a8a59e34"
      },
      "outputs": [
        {
          "name": "stdout",
          "output_type": "stream",
          "text": [
            "[768, 30, 7, 8, 1656, 7, 2715, 864, 6976, 290, 91, 2387, 3]\n",
            "['▁오늘', '도', '에', '이', '펠', '에', '왔', '는데', '잘', '모', '르', '겠다', '.']\n",
            "오늘도에이펠에왔는데잘모르겠다.\n"
          ]
        }
      ],
      "source": [
        "s = spm.SentencePieceProcessor()\n",
        "s.Load('korean_spm.model')\n",
        "\n",
        "# SentencePiece를 활용한 sentence -> encoding\n",
        "tokensIDs = s.EncodeAsIds('오늘도에이펠에왔는데잘모르겠다.')\n",
        "print(tokensIDs)\n",
        "\n",
        "# SentencePiece를 활용한 sentence -> encoded pieces\n",
        "print(s.SampleEncodeAsPieces('오늘도에이펠에왔는데잘모르겠다.',1, 0.0))\n",
        "\n",
        "# SentencePiece를 활용한 encoding -> sentence 복원\n",
        "print(s.DecodeIds(tokensIDs))"
      ]
    },
    {
      "cell_type": "markdown",
      "id": "87cf20d3",
      "metadata": {
        "id": "87cf20d3"
      },
      "source": [
        "### Step 3. Tokenizer 함수 작성"
      ]
    },
    {
      "cell_type": "code",
      "execution_count": null,
      "id": "f795e1e7",
      "metadata": {
        "id": "f795e1e7"
      },
      "outputs": [],
      "source": [
        "def sp_tokenize(s, corpus):\n",
        "\n",
        "    tensor = []\n",
        "\n",
        "    for sen in corpus:\n",
        "        tensor.append(s.EncodeAsIds(sen))\n",
        "\n",
        "    with open(\"./korean_spm.vocab\", 'r') as f:\n",
        "        vocab = f.readlines()\n",
        "\n",
        "    word_index = {}\n",
        "    index_word = {}\n",
        "\n",
        "    for idx, line in enumerate(vocab):\n",
        "        word = line.split(\"\\t\")[0]\n",
        "\n",
        "        word_index.update({word:idx})\n",
        "        index_word.update({idx:word})\n",
        "\n",
        "    tensor = tf.keras.preprocessing.sequence.pad_sequences(tensor, padding='post')\n",
        "\n",
        "    return tensor, word_index, index_word"
      ]
    },
    {
      "cell_type": "code",
      "execution_count": null,
      "id": "4be996d4",
      "metadata": {
        "id": "4be996d4",
        "outputId": "c902d50a-0099-4df7-f8e6-c329650aeb34"
      },
      "outputs": [
        {
          "name": "stdout",
          "output_type": "stream",
          "text": [
            "[[1956 5665    5    4 7975 1990    3    0    0    0    0    0    0    0]\n",
            " [ 107 1641  101    4    0  417   11    4   14    0 1976    3    3    3]]\n"
          ]
        }
      ],
      "source": [
        "#sp_tokenize(s, corpus) 사용예제\n",
        "\n",
        "my_corpus = ['나는 밥을 먹었습니다.', '그러나 여전히 ㅠㅠ 배가 고픕니다...']\n",
        "tensor, word_index, index_word = sp_tokenize(s, my_corpus)\n",
        "print(tensor)\n"
      ]
    },
    {
      "cell_type": "code",
      "execution_count": null,
      "id": "025a526a",
      "metadata": {
        "id": "025a526a",
        "outputId": "b9e40189-2c7b-4fea-9cdb-2fde2abb9082"
      },
      "outputs": [
        {
          "name": "stdout",
          "output_type": "stream",
          "text": [
            "[[   4 7396   71 7177  647    0  704   13 1802  142 1004  704    4 7975\n",
            "  1968   71  514    3]\n",
            " [ 107 1641  101    4    0  417   11    4   14    0 1976    3    3    3\n",
            "     0    0    0    0]]\n"
          ]
        }
      ],
      "source": [
        "#sp_tokenize(s, corpus) 사용예제\n",
        "\n",
        "my_corpus = ['붕어빵 단팥 하나, 슈크림 하나 먹었어요.', '그러나 여전히 ㅠㅠ 배가 고픕니다...']\n",
        "tensor, word_index, index_word = sp_tokenize(s, my_corpus)\n",
        "print(tensor)"
      ]
    },
    {
      "cell_type": "markdown",
      "id": "51afe378",
      "metadata": {
        "id": "51afe378"
      },
      "source": [
        "### Step 4. 네이버 영화리뷰 감정 분석 문제에 SentencePiece 적용해 보기"
      ]
    },
    {
      "cell_type": "code",
      "execution_count": null,
      "id": "ec955b6a",
      "metadata": {
        "id": "ec955b6a",
        "outputId": "53cea502-c5da-438a-a12b-9f4d749b5f30"
      },
      "outputs": [
        {
          "data": {
            "text/html": [
              "<div>\n",
              "<style scoped>\n",
              "    .dataframe tbody tr th:only-of-type {\n",
              "        vertical-align: middle;\n",
              "    }\n",
              "\n",
              "    .dataframe tbody tr th {\n",
              "        vertical-align: top;\n",
              "    }\n",
              "\n",
              "    .dataframe thead th {\n",
              "        text-align: right;\n",
              "    }\n",
              "</style>\n",
              "<table border=\"1\" class=\"dataframe\">\n",
              "  <thead>\n",
              "    <tr style=\"text-align: right;\">\n",
              "      <th></th>\n",
              "      <th>id</th>\n",
              "      <th>document</th>\n",
              "      <th>label</th>\n",
              "    </tr>\n",
              "  </thead>\n",
              "  <tbody>\n",
              "    <tr>\n",
              "      <th>0</th>\n",
              "      <td>9976970</td>\n",
              "      <td>아 더빙.. 진짜 짜증나네요 목소리</td>\n",
              "      <td>0</td>\n",
              "    </tr>\n",
              "    <tr>\n",
              "      <th>1</th>\n",
              "      <td>3819312</td>\n",
              "      <td>흠...포스터보고 초딩영화줄....오버연기조차 가볍지 않구나</td>\n",
              "      <td>1</td>\n",
              "    </tr>\n",
              "    <tr>\n",
              "      <th>2</th>\n",
              "      <td>10265843</td>\n",
              "      <td>너무재밓었다그래서보는것을추천한다</td>\n",
              "      <td>0</td>\n",
              "    </tr>\n",
              "    <tr>\n",
              "      <th>3</th>\n",
              "      <td>9045019</td>\n",
              "      <td>교도소 이야기구먼 ..솔직히 재미는 없다..평점 조정</td>\n",
              "      <td>0</td>\n",
              "    </tr>\n",
              "    <tr>\n",
              "      <th>4</th>\n",
              "      <td>6483659</td>\n",
              "      <td>사이몬페그의 익살스런 연기가 돋보였던 영화!스파이더맨에서 늙어보이기만 했던 커스틴 ...</td>\n",
              "      <td>1</td>\n",
              "    </tr>\n",
              "  </tbody>\n",
              "</table>\n",
              "</div>"
            ],
            "text/plain": [
              "         id                                           document  label\n",
              "0   9976970                                아 더빙.. 진짜 짜증나네요 목소리      0\n",
              "1   3819312                  흠...포스터보고 초딩영화줄....오버연기조차 가볍지 않구나      1\n",
              "2  10265843                                  너무재밓었다그래서보는것을추천한다      0\n",
              "3   9045019                      교도소 이야기구먼 ..솔직히 재미는 없다..평점 조정      0\n",
              "4   6483659  사이몬페그의 익살스런 연기가 돋보였던 영화!스파이더맨에서 늙어보이기만 했던 커스틴 ...      1"
            ]
          },
          "execution_count": 12,
          "metadata": {},
          "output_type": "execute_result"
        }
      ],
      "source": [
        "path = '../aiffel/sentiment_classification/data'\n",
        "\n",
        "import pandas as pd\n",
        "\n",
        "# 데이터를 읽어봅시다. \n",
        "train_data = pd.read_table(path +'/ratings_train.txt')\n",
        "test_data = pd.read_table(path + '/ratings_test.txt')\n",
        "\n",
        "train = train_data.copy()\n",
        "test = test_data.copy()\n",
        "train.head()"
      ]
    },
    {
      "cell_type": "code",
      "execution_count": null,
      "id": "fac0bc00",
      "metadata": {
        "id": "fac0bc00",
        "outputId": "35f67c2b-afd3-4800-dd5f-7c9f14cded8b"
      },
      "outputs": [
        {
          "name": "stdout",
          "output_type": "stream",
          "text": [
            "<class 'pandas.core.frame.DataFrame'>\n",
            "RangeIndex: 150000 entries, 0 to 149999\n",
            "Data columns (total 3 columns):\n",
            " #   Column    Non-Null Count   Dtype \n",
            "---  ------    --------------   ----- \n",
            " 0   id        150000 non-null  int64 \n",
            " 1   document  149995 non-null  object\n",
            " 2   label     150000 non-null  int64 \n",
            "dtypes: int64(2), object(1)\n",
            "memory usage: 3.4+ MB\n"
          ]
        }
      ],
      "source": [
        "train.info()"
      ]
    },
    {
      "cell_type": "code",
      "execution_count": null,
      "id": "58dfd388",
      "metadata": {
        "id": "58dfd388",
        "outputId": "b3e394a3-1214-4c7f-823f-a553f62542d1"
      },
      "outputs": [
        {
          "name": "stdout",
          "output_type": "stream",
          "text": [
            "<class 'pandas.core.frame.DataFrame'>\n",
            "RangeIndex: 50000 entries, 0 to 49999\n",
            "Data columns (total 3 columns):\n",
            " #   Column    Non-Null Count  Dtype \n",
            "---  ------    --------------  ----- \n",
            " 0   id        50000 non-null  int64 \n",
            " 1   document  49997 non-null  object\n",
            " 2   label     50000 non-null  int64 \n",
            "dtypes: int64(2), object(1)\n",
            "memory usage: 1.1+ MB\n"
          ]
        }
      ],
      "source": [
        "test.info()"
      ]
    },
    {
      "cell_type": "code",
      "execution_count": null,
      "id": "8ada9a0e",
      "metadata": {
        "id": "8ada9a0e"
      },
      "outputs": [],
      "source": [
        "#결측치 제거\n",
        "for i in [train,test]:\n",
        "    i.dropna(inplace=True)"
      ]
    },
    {
      "cell_type": "code",
      "execution_count": null,
      "id": "9c968da2",
      "metadata": {
        "id": "9c968da2"
      },
      "outputs": [],
      "source": [
        "#중복 제거\n",
        "for dataset in [train, test] :\n",
        "    dataset.drop_duplicates(subset='document', inplace=True)"
      ]
    },
    {
      "cell_type": "code",
      "execution_count": null,
      "id": "8fe92578",
      "metadata": {
        "id": "8fe92578"
      },
      "outputs": [],
      "source": [
        "#문장 시작점 추가\n",
        "\n",
        "for dataset in [train, test] :\n",
        "    dataset.document = dataset.document.apply(lambda x : '<BOS> ' + x)"
      ]
    },
    {
      "cell_type": "code",
      "execution_count": null,
      "id": "9b35e972",
      "metadata": {
        "id": "9b35e972"
      },
      "outputs": [],
      "source": [
        "#preparation for tokenizing\n",
        "corpus_train = train.document.values\n",
        "corpus_test = test.document.values\n",
        "\n",
        "label_train = train.label.values\n",
        "label_test = test.label.values"
      ]
    },
    {
      "cell_type": "code",
      "execution_count": null,
      "id": "8ef37ad4",
      "metadata": {
        "id": "8ef37ad4",
        "outputId": "3410b16f-a0d4-4692-b00a-7ff1b4f284b1"
      },
      "outputs": [
        {
          "name": "stdout",
          "output_type": "stream",
          "text": [
            "문장의 최단 길이: 7\n",
            "문장의 최장 길이: 152\n",
            "문장의 평균 길이: 41\n"
          ]
        },
        {
          "data": {
            "image/png": "[encoded data removed]",
            "text/plain": [
              "<Figure size 432x288 with 1 Axes>"
            ]
          },
          "metadata": {
            "needs_background": "light"
          },
          "output_type": "display_data"
        }
      ],
      "source": [
        "#train\n",
        "import numpy as np\n",
        "\n",
        "min_len = 999\n",
        "max_len = 0 \n",
        "sum_len = 0 #초기설정 \n",
        "\n",
        "for sen in corpus_train:\n",
        "    length = len(sen)\n",
        "    if min_len > length: min_len = length # length가 최소값의 길이보다 작으면 최소값은 length\n",
        "    if max_len < length: max_len = length\n",
        "    sum_len += length # 하나씩 증가된 데이터를 더함\n",
        "    \n",
        "print(\"문장의 최단 길이:\", min_len)\n",
        "print(\"문장의 최장 길이:\", max_len)\n",
        "print(\"문장의 평균 길이:\", sum_len // len(corpus_train))\n",
        "\n",
        "sentence_length = np.zeros((max_len), dtype=int) #np.zeros 0으로 초기화 된 배열 반환\n",
        "\n",
        "for sen in corpus_train:\n",
        "    sentence_length[len(sen)-1] +=1\n",
        "    \n",
        "plt.bar(range(max_len), sentence_length, width=1.0)\n",
        "plt.title(\"Sentence Length Distribution\")\n",
        "plt.show()\n",
        "\n",
        "\n",
        "    "
      ]
    },
    {
      "cell_type": "code",
      "execution_count": null,
      "id": "df6ba09c",
      "metadata": {
        "id": "df6ba09c",
        "outputId": "abc0ff75-bdfa-4aaa-b81b-038e38caaa5d"
      },
      "outputs": [
        {
          "name": "stdout",
          "output_type": "stream",
          "text": [
            "문장의 최단 길이: 7\n",
            "문장의 최장 길이: 150\n",
            "문장의 평균 길이: 41\n"
          ]
        },
        {
          "data": {
            "image/png": "[encoded data removed]",
            "text/plain": [
              "<Figure size 432x288 with 1 Axes>"
            ]
          },
          "metadata": {
            "needs_background": "light"
          },
          "output_type": "display_data"
        }
      ],
      "source": [
        "#Test\n",
        "\n",
        "\n",
        "min_len = 999\n",
        "max_len = 0 \n",
        "sum_len = 0 #초기설정 \n",
        "\n",
        "for sen in corpus_test:\n",
        "    length = len(sen)\n",
        "    if min_len > length: min_len = length # length가 최소값의 길이보다 작으면 최소값은 length\n",
        "    if max_len < length: max_len = length\n",
        "    sum_len += length # 하나씩 증가된 데이터를 더함\n",
        "    \n",
        "print(\"문장의 최단 길이:\", min_len)\n",
        "print(\"문장의 최장 길이:\", max_len)\n",
        "print(\"문장의 평균 길이:\", sum_len // len(corpus_test))\n",
        "\n",
        "sentence_length = np.zeros((max_len), dtype=int) #np.zeros 0으로 초기화 된 배열 반환\n",
        "\n",
        "for sen in corpus_test:\n",
        "    sentence_length[len(sen)-1] +=1\n",
        "    \n",
        "plt.bar(range(max_len), sentence_length, width=1.0)\n",
        "plt.title(\"Sentence Length Distribution\")\n",
        "plt.show()\n"
      ]
    },
    {
      "cell_type": "code",
      "execution_count": null,
      "id": "3edf59e9",
      "metadata": {
        "id": "3edf59e9"
      },
      "outputs": [],
      "source": [
        "def tokenize(corpus): \n",
        "    tokenizer = tf.keras.preprocessing.text.Tokenizer(filters='')\n",
        "    tokenizer.fit_on_texts(corpus)\n",
        "    \n",
        "    tensor = tokenizer.texts_to_sequences(corpus)\n",
        "\n",
        "    tensor = tf.keras.preprocessing.sequence.pad_sequences(tensor, padding='post')\n",
        "\n",
        "    return tensor, tokenizer\n",
        "    "
      ]
    },
    {
      "cell_type": "code",
      "execution_count": null,
      "id": "9478e0ec",
      "metadata": {
        "id": "9478e0ec",
        "outputId": "001a20ed-0e8b-4d4b-9371-117b20d8b893"
      },
      "outputs": [
        {
          "ename": "NameError",
          "evalue": "name 'filtered_corpus' is not defined",
          "output_type": "error",
          "traceback": [
            "\u001b[0;31m---------------------------------------------------------------------------\u001b[0m",
            "\u001b[0;31mNameError\u001b[0m                                 Traceback (most recent call last)",
            "\u001b[0;32m/tmp/ipykernel_38/2640406621.py\u001b[0m in \u001b[0;36m<module>\u001b[0;34m\u001b[0m\n\u001b[1;32m      2\u001b[0m \u001b[0msplit_corpus\u001b[0m \u001b[0;34m=\u001b[0m \u001b[0;34m[\u001b[0m\u001b[0;34m]\u001b[0m\u001b[0;34m\u001b[0m\u001b[0;34m\u001b[0m\u001b[0m\n\u001b[1;32m      3\u001b[0m \u001b[0;34m\u001b[0m\u001b[0m\n\u001b[0;32m----> 4\u001b[0;31m \u001b[0;32mfor\u001b[0m \u001b[0mkor\u001b[0m \u001b[0;32min\u001b[0m \u001b[0mfiltered_corpus\u001b[0m\u001b[0;34m:\u001b[0m\u001b[0;34m\u001b[0m\u001b[0;34m\u001b[0m\u001b[0m\n\u001b[0m\u001b[1;32m      5\u001b[0m     \u001b[0msplit_corpus\u001b[0m\u001b[0;34m.\u001b[0m\u001b[0mappend\u001b[0m\u001b[0;34m(\u001b[0m\u001b[0mkor\u001b[0m\u001b[0;34m.\u001b[0m\u001b[0msplit\u001b[0m\u001b[0;34m(\u001b[0m\u001b[0;34m)\u001b[0m\u001b[0;34m)\u001b[0m\u001b[0;34m\u001b[0m\u001b[0;34m\u001b[0m\u001b[0m\n",
            "\u001b[0;31mNameError\u001b[0m: name 'filtered_corpus' is not defined"
          ]
        }
      ],
      "source": [
        "# 정제된 데이터 filtered_corpus를 공백 기반으로 토큰화하여 저장하는 코드를 직접 작성해 보세요.\n",
        "split_corpus = []\n",
        "\n",
        "for kor in filtered_corpus:\n",
        "    split_corpus.append(kor.split())"
      ]
    },
    {
      "cell_type": "code",
      "execution_count": null,
      "id": "0334c179",
      "metadata": {
        "id": "0334c179"
      },
      "outputs": [],
      "source": [
        "def flag_idx(max_len, min_len, corpus) :\n",
        "    remove_idx = []\n",
        "    \n",
        "    for i,sen in enumerate(corpus) :\n",
        "        length = len(sen)\n",
        "        if (length > max_len) or (length < min_len) : \n",
        "            remove_idx.append(i)\n",
        "            \n",
        "    return remove_idx"
      ]
    },
    {
      "cell_type": "code",
      "execution_count": null,
      "id": "3aa504bf",
      "metadata": {
        "id": "3aa504bf",
        "outputId": "fb3935b5-732e-49b7-fab0-0bf0f5f40c31"
      },
      "outputs": [
        {
          "name": "stdout",
          "output_type": "stream",
          "text": [
            "# of data removing in training set : 33556\n",
            "# of data removing in test set : 11288\n"
          ]
        },
        {
          "ename": "NameError",
          "evalue": "name 'idx_tr' is not defined",
          "output_type": "error",
          "traceback": [
            "\u001b[0;31m---------------------------------------------------------------------------\u001b[0m",
            "\u001b[0;31mNameError\u001b[0m                                 Traceback (most recent call last)",
            "\u001b[0;32m/tmp/ipykernel_38/3464409666.py\u001b[0m in \u001b[0;36m<module>\u001b[0;34m\u001b[0m\n\u001b[1;32m     16\u001b[0m \u001b[0mmask_tr\u001b[0m \u001b[0;34m=\u001b[0m \u001b[0mnp\u001b[0m\u001b[0;34m.\u001b[0m\u001b[0mones\u001b[0m\u001b[0;34m(\u001b[0m\u001b[0mcorpus_tr\u001b[0m\u001b[0;34m.\u001b[0m\u001b[0mshape\u001b[0m\u001b[0;34m,\u001b[0m\u001b[0mbool\u001b[0m\u001b[0;34m)\u001b[0m\u001b[0;34m\u001b[0m\u001b[0;34m\u001b[0m\u001b[0m\n\u001b[1;32m     17\u001b[0m \u001b[0mmask_ts\u001b[0m \u001b[0;34m=\u001b[0m \u001b[0mnp\u001b[0m\u001b[0;34m.\u001b[0m\u001b[0mones\u001b[0m\u001b[0;34m(\u001b[0m\u001b[0mcorpus_ts\u001b[0m\u001b[0;34m.\u001b[0m\u001b[0mshape\u001b[0m\u001b[0;34m,\u001b[0m\u001b[0mbool\u001b[0m\u001b[0;34m)\u001b[0m\u001b[0;34m\u001b[0m\u001b[0;34m\u001b[0m\u001b[0m\n\u001b[0;32m---> 18\u001b[0;31m \u001b[0mmask_tr\u001b[0m\u001b[0;34m[\u001b[0m\u001b[0midx_tr\u001b[0m\u001b[0;34m]\u001b[0m \u001b[0;34m=\u001b[0m \u001b[0;32mFalse\u001b[0m\u001b[0;34m\u001b[0m\u001b[0;34m\u001b[0m\u001b[0m\n\u001b[0m\u001b[1;32m     19\u001b[0m \u001b[0mmask_ts\u001b[0m\u001b[0;34m[\u001b[0m\u001b[0midx_ts\u001b[0m\u001b[0;34m]\u001b[0m \u001b[0;34m=\u001b[0m \u001b[0;32mFalse\u001b[0m\u001b[0;34m\u001b[0m\u001b[0;34m\u001b[0m\u001b[0m\n\u001b[1;32m     20\u001b[0m \u001b[0;34m\u001b[0m\u001b[0m\n",
            "\u001b[0;31mNameError\u001b[0m: name 'idx_tr' is not defined"
          ]
        }
      ],
      "source": [
        "\n",
        "max_len = 50\n",
        "min_len = 3\n",
        "\n",
        "idx_train = flag_idx(max_len, min_len, corpus_train)\n",
        "idx_test = flag_idx(max_len, min_len, corpus_test)\n",
        "\n",
        "print('# of data removing in training set :', len(idx_train))\n",
        "print('# of data removing in test set :', len(idx_test))\n",
        "\n",
        "corpus_tr = train.document.values\n",
        "corpus_ts = test.document.values\n",
        "\n",
        "label_tr = train.label.values\n",
        "label_ts = test.label.values\n",
        "\n",
        "mask_tr = np.ones(corpus_tr.shape,bool)\n",
        "mask_ts = np.ones(corpus_ts.shape,bool)\n",
        "mask_tr[idx_tr] = False\n",
        "mask_ts[idx_ts] = False\n",
        "\n",
        "corpus_tr_clean = corpus_tr[mask_tr]\n",
        "corpus_ts_clean = corpus_ts[mask_ts]\n",
        "label_tr_clean = label_tr[mask_tr]\n",
        "label_ts_clean = label_ts[mask_ts]"
      ]
    },
    {
      "cell_type": "code",
      "execution_count": null,
      "id": "244c2c9a",
      "metadata": {
        "id": "244c2c9a",
        "outputId": "83899621-dfac-4ff4-974d-accfab3debdc"
      },
      "outputs": [
        {
          "ename": "NameError",
          "evalue": "name 'corpus_tr_clean' is not defined",
          "output_type": "error",
          "traceback": [
            "\u001b[0;31m---------------------------------------------------------------------------\u001b[0m",
            "\u001b[0;31mNameError\u001b[0m                                 Traceback (most recent call last)",
            "\u001b[0;32m/tmp/ipykernel_38/2657176456.py\u001b[0m in \u001b[0;36m<module>\u001b[0;34m\u001b[0m\n\u001b[1;32m      5\u001b[0m \u001b[0msum_len\u001b[0m \u001b[0;34m=\u001b[0m \u001b[0;36m0\u001b[0m\u001b[0;34m\u001b[0m\u001b[0;34m\u001b[0m\u001b[0m\n\u001b[1;32m      6\u001b[0m \u001b[0;34m\u001b[0m\u001b[0m\n\u001b[0;32m----> 7\u001b[0;31m \u001b[0;32mfor\u001b[0m \u001b[0msen\u001b[0m \u001b[0;32min\u001b[0m \u001b[0mcorpus_tr_clean\u001b[0m \u001b[0;34m:\u001b[0m\u001b[0;34m\u001b[0m\u001b[0;34m\u001b[0m\u001b[0m\n\u001b[0m\u001b[1;32m      8\u001b[0m     \u001b[0mlength\u001b[0m \u001b[0;34m=\u001b[0m \u001b[0mlen\u001b[0m\u001b[0;34m(\u001b[0m\u001b[0msen\u001b[0m\u001b[0;34m)\u001b[0m\u001b[0;34m\u001b[0m\u001b[0;34m\u001b[0m\u001b[0m\n\u001b[1;32m      9\u001b[0m     \u001b[0;32mif\u001b[0m \u001b[0mlength\u001b[0m \u001b[0;34m<\u001b[0m \u001b[0mmin_len\u001b[0m \u001b[0;34m:\u001b[0m \u001b[0mmin_len\u001b[0m \u001b[0;34m=\u001b[0m \u001b[0mlength\u001b[0m\u001b[0;34m\u001b[0m\u001b[0;34m\u001b[0m\u001b[0m\n",
            "\u001b[0;31mNameError\u001b[0m: name 'corpus_tr_clean' is not defined"
          ]
        }
      ],
      "source": [
        "#문장 길이 분포 알아보기 Test\n",
        "\n",
        "min_len = 999\n",
        "max_len = 0\n",
        "sum_len = 0\n",
        "\n",
        "for sen in corpus_tr_clean :\n",
        "    length = len(sen)\n",
        "    if length < min_len : min_len = length\n",
        "    if length > max_len : max_len = length\n",
        "    sum_len += length\n",
        "\n",
        "print('min len :',min_len)\n",
        "print('max len :',max_len)\n",
        "print('average len :',sum_len // len(corpus_tr_clean))\n",
        "\n",
        "sentence_length = np.zeros((max_len), dtype=int)\n",
        "\n",
        "for sen in corpus_tr_clean:   # 중복이 제거된 코퍼스 기준\n",
        "    sentence_length[len(sen)-1] += 1\n",
        "\n",
        "plt.bar(range(max_len), sentence_length, width=1.0)\n",
        "plt.title(\"Sentence Length Distribution\")\n",
        "plt.show()"
      ]
    },
    {
      "cell_type": "code",
      "execution_count": null,
      "id": "8780f56f",
      "metadata": {
        "id": "8780f56f",
        "outputId": "40101d49-d54a-4667-b60b-03d0ff44c2a3"
      },
      "outputs": [
        {
          "ename": "NameError",
          "evalue": "name 'raw' is not defined",
          "output_type": "error",
          "traceback": [
            "\u001b[0;31m---------------------------------------------------------------------------\u001b[0m",
            "\u001b[0;31mNameError\u001b[0m                                 Traceback (most recent call last)",
            "\u001b[0;32m/tmp/ipykernel_38/4134374706.py\u001b[0m in \u001b[0;36m<module>\u001b[0;34m\u001b[0m\n\u001b[1;32m      3\u001b[0m \u001b[0msum_len\u001b[0m \u001b[0;34m=\u001b[0m \u001b[0;36m0\u001b[0m\u001b[0;34m\u001b[0m\u001b[0;34m\u001b[0m\u001b[0m\n\u001b[1;32m      4\u001b[0m \u001b[0;34m\u001b[0m\u001b[0m\n\u001b[0;32m----> 5\u001b[0;31m \u001b[0mcleaned_corpus\u001b[0m \u001b[0;34m=\u001b[0m \u001b[0mlist\u001b[0m\u001b[0;34m(\u001b[0m\u001b[0mset\u001b[0m\u001b[0;34m(\u001b[0m\u001b[0mraw\u001b[0m\u001b[0;34m)\u001b[0m\u001b[0;34m)\u001b[0m  \u001b[0;31m# set를 사용해 중복을 제거합니다.\u001b[0m\u001b[0;34m\u001b[0m\u001b[0;34m\u001b[0m\u001b[0m\n\u001b[0m\u001b[1;32m      6\u001b[0m \u001b[0mprint\u001b[0m\u001b[0;34m(\u001b[0m\u001b[0;34m\"Data Size:\"\u001b[0m\u001b[0;34m,\u001b[0m \u001b[0mlen\u001b[0m\u001b[0;34m(\u001b[0m\u001b[0mcleaned_corpus\u001b[0m\u001b[0;34m)\u001b[0m\u001b[0;34m)\u001b[0m\u001b[0;34m\u001b[0m\u001b[0;34m\u001b[0m\u001b[0m\n\u001b[1;32m      7\u001b[0m \u001b[0;34m\u001b[0m\u001b[0m\n",
            "\u001b[0;31mNameError\u001b[0m: name 'raw' is not defined"
          ]
        }
      ],
      "source": [
        "min_len = 999\n",
        "max_len = 0\n",
        "sum_len = 0\n",
        "\n",
        "cleaned_corpus = list(set(raw))  # set를 사용해 중복을 제거합니다.\n",
        "print(\"Data Size:\", len(cleaned_corpus))\n",
        "\n",
        "for sen in cleaned_corpus:\n",
        "    length = len(sen)\n",
        "    if min_len > length: min_len = length\n",
        "    if max_len < length: max_len = length\n",
        "    sum_len += length\n",
        "\n",
        "print(\"문장의 최단 길이:\", min_len)\n",
        "print(\"문장의 최장 길이:\", max_len)\n",
        "print(\"문장의 평균 길이:\", sum_len // len(cleaned_corpus))\n",
        "\n",
        "sentence_length = np.zeros((max_len), dtype=int)\n",
        "\n",
        "for sen in cleaned_corpus:   # 중복이 제거된 코퍼스 기준\n",
        "    sentence_length[len(sen)-1] += 1\n",
        "\n",
        "plt.bar(range(max_len), sentence_length, width=1.0)\n",
        "plt.title(\"Sentence Length Distribution\")\n",
        "plt.show()"
      ]
    },
    {
      "cell_type": "code",
      "execution_count": null,
      "id": "9d8196b9",
      "metadata": {
        "id": "9d8196b9"
      },
      "outputs": [],
      "source": [
        "def tokenize(corpus): \n",
        "    tokenizer = tf.keras.preprocessing.text.Tokenizer(filters='')\n",
        "    tokenizer.fit_on_texts(corpus)\n",
        "    \n",
        "    tensor = tokenizer.texts_to_sequences(corpus)\n",
        "\n",
        "    tensor = tf.keras.preprocessing.sequence.pad_sequences(tensor, padding='post')\n",
        "\n",
        "    return tensor, tokenizer\n",
        "    "
      ]
    },
    {
      "cell_type": "code",
      "execution_count": null,
      "id": "1906c3ff",
      "metadata": {
        "id": "1906c3ff"
      },
      "outputs": [],
      "source": []
    }
  ],
  "metadata": {
    "kernelspec": {
      "display_name": "Python 3 (ipykernel)",
      "language": "python",
      "name": "python3"
    },
    "language_info": {
      "codemirror_mode": {
        "name": "ipython",
        "version": 3
      },
      "file_extension": ".py",
      "mimetype": "text/x-python",
      "name": "python",
      "nbconvert_exporter": "python",
      "pygments_lexer": "ipython3",
      "version": "3.9.7"
    },
    "colab": {
      "provenance": [],
      "include_colab_link": true
    }
  },
  "nbformat": 4,
  "nbformat_minor": 5
}